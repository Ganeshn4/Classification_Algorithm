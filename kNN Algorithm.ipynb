{
 "cells": [
  {
   "cell_type": "code",
   "execution_count": 1,
   "id": "6b93844c-3539-405c-bb53-00c2a97873cd",
   "metadata": {},
   "outputs": [],
   "source": [
    "import numpy as np\n",
    "import pandas as pd\n",
    "import matplotlib.pyplot as plt\n",
    "%matplotlib inline"
   ]
  },
  {
   "cell_type": "code",
   "execution_count": 2,
   "id": "256e6da0-911d-45be-ac15-2089ba947d35",
   "metadata": {},
   "outputs": [],
   "source": [
    "import warnings\n",
    "warnings.filterwarnings('ignore')\n",
    "#used to remove bg line warnings"
   ]
  },
  {
   "cell_type": "code",
   "execution_count": 3,
   "id": "57da6682-2891-4b13-8494-c0f36c30c0f3",
   "metadata": {},
   "outputs": [],
   "source": [
    "defaulter_df=pd.read_csv('Default.csv')"
   ]
  },
  {
   "cell_type": "code",
   "execution_count": 4,
   "id": "53adbcaf-5c9d-4e24-a596-1f0c36f41198",
   "metadata": {},
   "outputs": [
    {
     "data": {
      "text/html": [
       "<div>\n",
       "<style scoped>\n",
       "    .dataframe tbody tr th:only-of-type {\n",
       "        vertical-align: middle;\n",
       "    }\n",
       "\n",
       "    .dataframe tbody tr th {\n",
       "        vertical-align: top;\n",
       "    }\n",
       "\n",
       "    .dataframe thead th {\n",
       "        text-align: right;\n",
       "    }\n",
       "</style>\n",
       "<table border=\"1\" class=\"dataframe\">\n",
       "  <thead>\n",
       "    <tr style=\"text-align: right;\">\n",
       "      <th></th>\n",
       "      <th>default</th>\n",
       "      <th>student</th>\n",
       "      <th>balance</th>\n",
       "      <th>income</th>\n",
       "    </tr>\n",
       "  </thead>\n",
       "  <tbody>\n",
       "    <tr>\n",
       "      <th>0</th>\n",
       "      <td>No</td>\n",
       "      <td>No</td>\n",
       "      <td>729.526495</td>\n",
       "      <td>44361.62507</td>\n",
       "    </tr>\n",
       "    <tr>\n",
       "      <th>1</th>\n",
       "      <td>No</td>\n",
       "      <td>Yes</td>\n",
       "      <td>817.180407</td>\n",
       "      <td>12106.13470</td>\n",
       "    </tr>\n",
       "    <tr>\n",
       "      <th>2</th>\n",
       "      <td>No</td>\n",
       "      <td>No</td>\n",
       "      <td>1073.549164</td>\n",
       "      <td>31767.13895</td>\n",
       "    </tr>\n",
       "    <tr>\n",
       "      <th>3</th>\n",
       "      <td>No</td>\n",
       "      <td>No</td>\n",
       "      <td>529.250605</td>\n",
       "      <td>35704.49394</td>\n",
       "    </tr>\n",
       "    <tr>\n",
       "      <th>4</th>\n",
       "      <td>No</td>\n",
       "      <td>No</td>\n",
       "      <td>785.655883</td>\n",
       "      <td>38463.49588</td>\n",
       "    </tr>\n",
       "  </tbody>\n",
       "</table>\n",
       "</div>"
      ],
      "text/plain": [
       "  default student      balance       income\n",
       "0      No      No   729.526495  44361.62507\n",
       "1      No     Yes   817.180407  12106.13470\n",
       "2      No      No  1073.549164  31767.13895\n",
       "3      No      No   529.250605  35704.49394\n",
       "4      No      No   785.655883  38463.49588"
      ]
     },
     "execution_count": 4,
     "metadata": {},
     "output_type": "execute_result"
    }
   ],
   "source": [
    "defaulter_df.head()"
   ]
  },
  {
   "cell_type": "code",
   "execution_count": 5,
   "id": "bb6f5e2f-153c-448f-98c6-9f73ecaf2d43",
   "metadata": {},
   "outputs": [
    {
     "data": {
      "text/plain": [
       "<bound method DataFrame.info of      default student      balance       income\n",
       "0         No      No   729.526495  44361.62507\n",
       "1         No     Yes   817.180407  12106.13470\n",
       "2         No      No  1073.549164  31767.13895\n",
       "3         No      No   529.250605  35704.49394\n",
       "4         No      No   785.655883  38463.49588\n",
       "...      ...     ...          ...          ...\n",
       "9995      No      No   711.555020  52992.37891\n",
       "9996      No      No   757.962918  19660.72177\n",
       "9997      No      No   845.411989  58636.15698\n",
       "9998      No      No  1569.009053  36669.11236\n",
       "9999      No     Yes   200.922183  16862.95232\n",
       "\n",
       "[10000 rows x 4 columns]>"
      ]
     },
     "execution_count": 5,
     "metadata": {},
     "output_type": "execute_result"
    }
   ],
   "source": [
    "defaulter_df.info"
   ]
  },
  {
   "cell_type": "code",
   "execution_count": 6,
   "id": "987f156e-c03b-4ad7-9337-9eb941248480",
   "metadata": {},
   "outputs": [
    {
     "data": {
      "text/html": [
       "<div>\n",
       "<style scoped>\n",
       "    .dataframe tbody tr th:only-of-type {\n",
       "        vertical-align: middle;\n",
       "    }\n",
       "\n",
       "    .dataframe tbody tr th {\n",
       "        vertical-align: top;\n",
       "    }\n",
       "\n",
       "    .dataframe thead th {\n",
       "        text-align: right;\n",
       "    }\n",
       "</style>\n",
       "<table border=\"1\" class=\"dataframe\">\n",
       "  <thead>\n",
       "    <tr style=\"text-align: right;\">\n",
       "      <th></th>\n",
       "      <th>default</th>\n",
       "      <th>student</th>\n",
       "      <th>balance</th>\n",
       "      <th>income</th>\n",
       "    </tr>\n",
       "  </thead>\n",
       "  <tbody>\n",
       "    <tr>\n",
       "      <th>0</th>\n",
       "      <td>False</td>\n",
       "      <td>False</td>\n",
       "      <td>False</td>\n",
       "      <td>False</td>\n",
       "    </tr>\n",
       "    <tr>\n",
       "      <th>1</th>\n",
       "      <td>False</td>\n",
       "      <td>False</td>\n",
       "      <td>False</td>\n",
       "      <td>False</td>\n",
       "    </tr>\n",
       "    <tr>\n",
       "      <th>2</th>\n",
       "      <td>False</td>\n",
       "      <td>False</td>\n",
       "      <td>False</td>\n",
       "      <td>False</td>\n",
       "    </tr>\n",
       "    <tr>\n",
       "      <th>3</th>\n",
       "      <td>False</td>\n",
       "      <td>False</td>\n",
       "      <td>False</td>\n",
       "      <td>False</td>\n",
       "    </tr>\n",
       "    <tr>\n",
       "      <th>4</th>\n",
       "      <td>False</td>\n",
       "      <td>False</td>\n",
       "      <td>False</td>\n",
       "      <td>False</td>\n",
       "    </tr>\n",
       "    <tr>\n",
       "      <th>...</th>\n",
       "      <td>...</td>\n",
       "      <td>...</td>\n",
       "      <td>...</td>\n",
       "      <td>...</td>\n",
       "    </tr>\n",
       "    <tr>\n",
       "      <th>9995</th>\n",
       "      <td>False</td>\n",
       "      <td>False</td>\n",
       "      <td>False</td>\n",
       "      <td>False</td>\n",
       "    </tr>\n",
       "    <tr>\n",
       "      <th>9996</th>\n",
       "      <td>False</td>\n",
       "      <td>False</td>\n",
       "      <td>False</td>\n",
       "      <td>False</td>\n",
       "    </tr>\n",
       "    <tr>\n",
       "      <th>9997</th>\n",
       "      <td>False</td>\n",
       "      <td>False</td>\n",
       "      <td>False</td>\n",
       "      <td>False</td>\n",
       "    </tr>\n",
       "    <tr>\n",
       "      <th>9998</th>\n",
       "      <td>False</td>\n",
       "      <td>False</td>\n",
       "      <td>False</td>\n",
       "      <td>False</td>\n",
       "    </tr>\n",
       "    <tr>\n",
       "      <th>9999</th>\n",
       "      <td>False</td>\n",
       "      <td>False</td>\n",
       "      <td>False</td>\n",
       "      <td>False</td>\n",
       "    </tr>\n",
       "  </tbody>\n",
       "</table>\n",
       "<p>10000 rows × 4 columns</p>\n",
       "</div>"
      ],
      "text/plain": [
       "      default  student  balance  income\n",
       "0       False    False    False   False\n",
       "1       False    False    False   False\n",
       "2       False    False    False   False\n",
       "3       False    False    False   False\n",
       "4       False    False    False   False\n",
       "...       ...      ...      ...     ...\n",
       "9995    False    False    False   False\n",
       "9996    False    False    False   False\n",
       "9997    False    False    False   False\n",
       "9998    False    False    False   False\n",
       "9999    False    False    False   False\n",
       "\n",
       "[10000 rows x 4 columns]"
      ]
     },
     "execution_count": 6,
     "metadata": {},
     "output_type": "execute_result"
    }
   ],
   "source": [
    "defaulter_df.isna()"
   ]
  },
  {
   "cell_type": "code",
   "execution_count": 7,
   "id": "31f0166a-49e4-4e40-bc0a-9bcb35f160e5",
   "metadata": {},
   "outputs": [
    {
     "data": {
      "text/html": [
       "<div>\n",
       "<style scoped>\n",
       "    .dataframe tbody tr th:only-of-type {\n",
       "        vertical-align: middle;\n",
       "    }\n",
       "\n",
       "    .dataframe tbody tr th {\n",
       "        vertical-align: top;\n",
       "    }\n",
       "\n",
       "    .dataframe thead th {\n",
       "        text-align: right;\n",
       "    }\n",
       "</style>\n",
       "<table border=\"1\" class=\"dataframe\">\n",
       "  <thead>\n",
       "    <tr style=\"text-align: right;\">\n",
       "      <th></th>\n",
       "      <th>default</th>\n",
       "      <th>student</th>\n",
       "      <th>balance</th>\n",
       "      <th>income</th>\n",
       "    </tr>\n",
       "  </thead>\n",
       "  <tbody>\n",
       "    <tr>\n",
       "      <th>9995</th>\n",
       "      <td>No</td>\n",
       "      <td>No</td>\n",
       "      <td>711.555020</td>\n",
       "      <td>52992.37891</td>\n",
       "    </tr>\n",
       "    <tr>\n",
       "      <th>9996</th>\n",
       "      <td>No</td>\n",
       "      <td>No</td>\n",
       "      <td>757.962918</td>\n",
       "      <td>19660.72177</td>\n",
       "    </tr>\n",
       "    <tr>\n",
       "      <th>9997</th>\n",
       "      <td>No</td>\n",
       "      <td>No</td>\n",
       "      <td>845.411989</td>\n",
       "      <td>58636.15698</td>\n",
       "    </tr>\n",
       "    <tr>\n",
       "      <th>9998</th>\n",
       "      <td>No</td>\n",
       "      <td>No</td>\n",
       "      <td>1569.009053</td>\n",
       "      <td>36669.11236</td>\n",
       "    </tr>\n",
       "    <tr>\n",
       "      <th>9999</th>\n",
       "      <td>No</td>\n",
       "      <td>Yes</td>\n",
       "      <td>200.922183</td>\n",
       "      <td>16862.95232</td>\n",
       "    </tr>\n",
       "  </tbody>\n",
       "</table>\n",
       "</div>"
      ],
      "text/plain": [
       "     default student      balance       income\n",
       "9995      No      No   711.555020  52992.37891\n",
       "9996      No      No   757.962918  19660.72177\n",
       "9997      No      No   845.411989  58636.15698\n",
       "9998      No      No  1569.009053  36669.11236\n",
       "9999      No     Yes   200.922183  16862.95232"
      ]
     },
     "execution_count": 7,
     "metadata": {},
     "output_type": "execute_result"
    }
   ],
   "source": [
    "defaulter_df.tail()"
   ]
  },
  {
   "cell_type": "code",
   "execution_count": 8,
   "id": "7be84f60-bb32-4491-975a-e637535669a0",
   "metadata": {},
   "outputs": [
    {
     "data": {
      "text/plain": [
       "(10000, 4)"
      ]
     },
     "execution_count": 8,
     "metadata": {},
     "output_type": "execute_result"
    }
   ],
   "source": [
    "defaulter_df.shape"
   ]
  },
  {
   "cell_type": "code",
   "execution_count": 9,
   "id": "ed13777b-8088-4ecc-bbae-0944742801b6",
   "metadata": {},
   "outputs": [
    {
     "data": {
      "text/plain": [
       "default\n",
       "No     9667\n",
       "Yes     333\n",
       "Name: count, dtype: int64"
      ]
     },
     "execution_count": 9,
     "metadata": {},
     "output_type": "execute_result"
    }
   ],
   "source": [
    "defaulter_df[\"default\"].value_counts()"
   ]
  },
  {
   "cell_type": "code",
   "execution_count": 10,
   "id": "cfdc5059-c853-480a-a637-50600270b9cd",
   "metadata": {},
   "outputs": [],
   "source": [
    "X=defaulter_df[[\"balance\",\"income\"]]\n",
    "y=defaulter_df[\"default\"]"
   ]
  },
  {
   "cell_type": "markdown",
   "id": "b3f44801-c4ce-4304-a923-0f1b3646380f",
   "metadata": {},
   "source": [
    "defaulter_df.describe()"
   ]
  },
  {
   "cell_type": "markdown",
   "id": "da308098-91c2-4956-b65d-82c104079d15",
   "metadata": {},
   "source": [
    "### Train-Test Split"
   ]
  },
  {
   "cell_type": "code",
   "execution_count": 11,
   "id": "c596d830-6d5b-43dd-8c82-72ac3fe33bf1",
   "metadata": {},
   "outputs": [],
   "source": [
    "from sklearn.model_selection import train_test_split"
   ]
  },
  {
   "cell_type": "code",
   "execution_count": 12,
   "id": "bbd032ff-4625-43e6-91f8-df46c2a9b6bb",
   "metadata": {},
   "outputs": [],
   "source": [
    "X_train,X_test,y_train,y_test=train_test_split(X,y, test_size=0.2, random_state=42)"
   ]
  },
  {
   "cell_type": "code",
   "execution_count": 13,
   "id": "840d74ee-92c4-490c-bb92-1d3a870e124e",
   "metadata": {},
   "outputs": [
    {
     "name": "stdout",
     "output_type": "stream",
     "text": [
      "Size of training data:  8000\n",
      "Size of test data:  2000\n"
     ]
    }
   ],
   "source": [
    "print(\"Size of training data: \",X_train.shape[0])\n",
    "print(\"Size of test data: \",X_test.shape[0])"
   ]
  },
  {
   "cell_type": "markdown",
   "id": "240d92f8-14b6-4435-8c59-7b1275212dac",
   "metadata": {},
   "source": [
    "### Normalization"
   ]
  },
  {
   "cell_type": "code",
   "execution_count": 14,
   "id": "b5fb1e7f-c6c4-4916-a6d0-1324f47cf026",
   "metadata": {},
   "outputs": [],
   "source": [
    "from sklearn.preprocessing import MinMaxScaler"
   ]
  },
  {
   "cell_type": "code",
   "execution_count": 15,
   "id": "6998afed-1c6b-4a4a-a24e-5f44485e15f3",
   "metadata": {},
   "outputs": [
    {
     "data": {
      "text/plain": [
       "array([[0.60044261, 0.41419578],\n",
       "       [0.32278831, 0.57880959],\n",
       "       [0.        , 0.2640447 ],\n",
       "       ...,\n",
       "       [0.01141857, 0.31423418],\n",
       "       [0.56417888, 0.24950704],\n",
       "       [0.12493461, 0.6941076 ]])"
      ]
     },
     "execution_count": 15,
     "metadata": {},
     "output_type": "execute_result"
    }
   ],
   "source": [
    "min_max = MinMaxScaler()\n",
    "#min_max.fit(X_train)\n",
    "train_transformed = min_max.fit_transform(X_train)\n",
    "transformed=min_max.fit_transform(X_test)\n",
    "transformed"
   ]
  },
  {
   "cell_type": "code",
   "execution_count": 16,
   "id": "319b9bb2-b0d1-46a4-a4a4-3623deb1b9a5",
   "metadata": {},
   "outputs": [
    {
     "data": {
      "text/plain": [
       "array([[0.38373939, 0.45796749],\n",
       "       [0.02342219, 0.38318098],\n",
       "       [0.39435431, 0.550278  ],\n",
       "       ...,\n",
       "       [0.27202013, 0.36014664],\n",
       "       [0.06176334, 0.27906574],\n",
       "       [0.24011328, 0.67166673]])"
      ]
     },
     "execution_count": 16,
     "metadata": {},
     "output_type": "execute_result"
    }
   ],
   "source": [
    "train_transformed"
   ]
  },
  {
   "cell_type": "code",
   "execution_count": 17,
   "id": "f209564f-13e8-478f-a80f-691184a96b3c",
   "metadata": {},
   "outputs": [
    {
     "data": {
      "text/html": [
       "<div>\n",
       "<style scoped>\n",
       "    .dataframe tbody tr th:only-of-type {\n",
       "        vertical-align: middle;\n",
       "    }\n",
       "\n",
       "    .dataframe tbody tr th {\n",
       "        vertical-align: top;\n",
       "    }\n",
       "\n",
       "    .dataframe thead th {\n",
       "        text-align: right;\n",
       "    }\n",
       "</style>\n",
       "<table border=\"1\" class=\"dataframe\">\n",
       "  <thead>\n",
       "    <tr style=\"text-align: right;\">\n",
       "      <th></th>\n",
       "      <th>balance</th>\n",
       "      <th>income</th>\n",
       "      <th>balanced_normalized</th>\n",
       "      <th>income_normalized</th>\n",
       "    </tr>\n",
       "  </thead>\n",
       "  <tbody>\n",
       "    <tr>\n",
       "      <th>9254</th>\n",
       "      <td>1018.568130</td>\n",
       "      <td>34103.87952</td>\n",
       "      <td>0.383739</td>\n",
       "      <td>0.457967</td>\n",
       "    </tr>\n",
       "    <tr>\n",
       "      <th>1561</th>\n",
       "      <td>62.170050</td>\n",
       "      <td>28660.74751</td>\n",
       "      <td>0.023422</td>\n",
       "      <td>0.383181</td>\n",
       "    </tr>\n",
       "    <tr>\n",
       "      <th>1670</th>\n",
       "      <td>1046.743543</td>\n",
       "      <td>40822.44741</td>\n",
       "      <td>0.394354</td>\n",
       "      <td>0.550278</td>\n",
       "    </tr>\n",
       "    <tr>\n",
       "      <th>6087</th>\n",
       "      <td>763.735280</td>\n",
       "      <td>44125.71873</td>\n",
       "      <td>0.287733</td>\n",
       "      <td>0.595664</td>\n",
       "    </tr>\n",
       "    <tr>\n",
       "      <th>6669</th>\n",
       "      <td>697.248633</td>\n",
       "      <td>25730.91758</td>\n",
       "      <td>0.262684</td>\n",
       "      <td>0.342926</td>\n",
       "    </tr>\n",
       "  </tbody>\n",
       "</table>\n",
       "</div>"
      ],
      "text/plain": [
       "          balance       income  balanced_normalized  income_normalized\n",
       "9254  1018.568130  34103.87952             0.383739           0.457967\n",
       "1561    62.170050  28660.74751             0.023422           0.383181\n",
       "1670  1046.743543  40822.44741             0.394354           0.550278\n",
       "6087   763.735280  44125.71873             0.287733           0.595664\n",
       "6669   697.248633  25730.91758             0.262684           0.342926"
      ]
     },
     "execution_count": 17,
     "metadata": {},
     "output_type": "execute_result"
    }
   ],
   "source": [
    "X_train['balanced_normalized'] = train_transformed[:,0]\n",
    "X_train['income_normalized'] = train_transformed[:,1]\n",
    "X_train.head()"
   ]
  },
  {
   "cell_type": "code",
   "execution_count": 18,
   "id": "7e0b31a9-e45e-4adf-9b8d-7b8f3a854d03",
   "metadata": {},
   "outputs": [
    {
     "data": {
      "text/html": [
       "<div>\n",
       "<style scoped>\n",
       "    .dataframe tbody tr th:only-of-type {\n",
       "        vertical-align: middle;\n",
       "    }\n",
       "\n",
       "    .dataframe tbody tr th {\n",
       "        vertical-align: top;\n",
       "    }\n",
       "\n",
       "    .dataframe thead th {\n",
       "        text-align: right;\n",
       "    }\n",
       "</style>\n",
       "<table border=\"1\" class=\"dataframe\">\n",
       "  <thead>\n",
       "    <tr style=\"text-align: right;\">\n",
       "      <th></th>\n",
       "      <th>balance</th>\n",
       "      <th>income</th>\n",
       "      <th>balanced_normalized</th>\n",
       "      <th>income_normalized</th>\n",
       "    </tr>\n",
       "  </thead>\n",
       "  <tbody>\n",
       "    <tr>\n",
       "      <th>6252</th>\n",
       "      <td>1435.662933</td>\n",
       "      <td>31507.08928</td>\n",
       "      <td>0.600443</td>\n",
       "      <td>0.414196</td>\n",
       "    </tr>\n",
       "    <tr>\n",
       "      <th>4684</th>\n",
       "      <td>771.789347</td>\n",
       "      <td>42139.07027</td>\n",
       "      <td>0.322788</td>\n",
       "      <td>0.578810</td>\n",
       "    </tr>\n",
       "    <tr>\n",
       "      <th>1731</th>\n",
       "      <td>0.000000</td>\n",
       "      <td>21809.21851</td>\n",
       "      <td>0.000000</td>\n",
       "      <td>0.264045</td>\n",
       "    </tr>\n",
       "    <tr>\n",
       "      <th>4742</th>\n",
       "      <td>113.571264</td>\n",
       "      <td>32803.83265</td>\n",
       "      <td>0.047499</td>\n",
       "      <td>0.434273</td>\n",
       "    </tr>\n",
       "    <tr>\n",
       "      <th>4521</th>\n",
       "      <td>1358.132472</td>\n",
       "      <td>49903.59708</td>\n",
       "      <td>0.568017</td>\n",
       "      <td>0.699027</td>\n",
       "    </tr>\n",
       "  </tbody>\n",
       "</table>\n",
       "</div>"
      ],
      "text/plain": [
       "          balance       income  balanced_normalized  income_normalized\n",
       "6252  1435.662933  31507.08928             0.600443           0.414196\n",
       "4684   771.789347  42139.07027             0.322788           0.578810\n",
       "1731     0.000000  21809.21851             0.000000           0.264045\n",
       "4742   113.571264  32803.83265             0.047499           0.434273\n",
       "4521  1358.132472  49903.59708             0.568017           0.699027"
      ]
     },
     "execution_count": 18,
     "metadata": {},
     "output_type": "execute_result"
    }
   ],
   "source": [
    "X_test['balanced_normalized'] = transformed[:,0]\n",
    "X_test['income_normalized'] = transformed[:,1]\n",
    "X_test.head()"
   ]
  },
  {
   "cell_type": "markdown",
   "id": "2f1c7851-cab8-4dd4-8100-244630af4b45",
   "metadata": {},
   "source": [
    "### Fitting kNN"
   ]
  },
  {
   "cell_type": "markdown",
   "id": "0f5aab1f-7a5d-48d3-96d4-7952852844e2",
   "metadata": {},
   "source": [
    "### 1. k=3"
   ]
  },
  {
   "cell_type": "code",
   "execution_count": 19,
   "id": "ccf120f6-e2c1-4e6c-90ec-b9453edde3af",
   "metadata": {},
   "outputs": [],
   "source": [
    "from sklearn.neighbors import KNeighborsClassifier"
   ]
  },
  {
   "cell_type": "code",
   "execution_count": 20,
   "id": "5958f537-333e-44d9-becd-c493b38e81e4",
   "metadata": {},
   "outputs": [
    {
     "data": {
      "text/html": [
       "<style>#sk-container-id-1 {color: black;background-color: white;}#sk-container-id-1 pre{padding: 0;}#sk-container-id-1 div.sk-toggleable {background-color: white;}#sk-container-id-1 label.sk-toggleable__label {cursor: pointer;display: block;width: 100%;margin-bottom: 0;padding: 0.3em;box-sizing: border-box;text-align: center;}#sk-container-id-1 label.sk-toggleable__label-arrow:before {content: \"▸\";float: left;margin-right: 0.25em;color: #696969;}#sk-container-id-1 label.sk-toggleable__label-arrow:hover:before {color: black;}#sk-container-id-1 div.sk-estimator:hover label.sk-toggleable__label-arrow:before {color: black;}#sk-container-id-1 div.sk-toggleable__content {max-height: 0;max-width: 0;overflow: hidden;text-align: left;background-color: #f0f8ff;}#sk-container-id-1 div.sk-toggleable__content pre {margin: 0.2em;color: black;border-radius: 0.25em;background-color: #f0f8ff;}#sk-container-id-1 input.sk-toggleable__control:checked~div.sk-toggleable__content {max-height: 200px;max-width: 100%;overflow: auto;}#sk-container-id-1 input.sk-toggleable__control:checked~label.sk-toggleable__label-arrow:before {content: \"▾\";}#sk-container-id-1 div.sk-estimator input.sk-toggleable__control:checked~label.sk-toggleable__label {background-color: #d4ebff;}#sk-container-id-1 div.sk-label input.sk-toggleable__control:checked~label.sk-toggleable__label {background-color: #d4ebff;}#sk-container-id-1 input.sk-hidden--visually {border: 0;clip: rect(1px 1px 1px 1px);clip: rect(1px, 1px, 1px, 1px);height: 1px;margin: -1px;overflow: hidden;padding: 0;position: absolute;width: 1px;}#sk-container-id-1 div.sk-estimator {font-family: monospace;background-color: #f0f8ff;border: 1px dotted black;border-radius: 0.25em;box-sizing: border-box;margin-bottom: 0.5em;}#sk-container-id-1 div.sk-estimator:hover {background-color: #d4ebff;}#sk-container-id-1 div.sk-parallel-item::after {content: \"\";width: 100%;border-bottom: 1px solid gray;flex-grow: 1;}#sk-container-id-1 div.sk-label:hover label.sk-toggleable__label {background-color: #d4ebff;}#sk-container-id-1 div.sk-serial::before {content: \"\";position: absolute;border-left: 1px solid gray;box-sizing: border-box;top: 0;bottom: 0;left: 50%;z-index: 0;}#sk-container-id-1 div.sk-serial {display: flex;flex-direction: column;align-items: center;background-color: white;padding-right: 0.2em;padding-left: 0.2em;position: relative;}#sk-container-id-1 div.sk-item {position: relative;z-index: 1;}#sk-container-id-1 div.sk-parallel {display: flex;align-items: stretch;justify-content: center;background-color: white;position: relative;}#sk-container-id-1 div.sk-item::before, #sk-container-id-1 div.sk-parallel-item::before {content: \"\";position: absolute;border-left: 1px solid gray;box-sizing: border-box;top: 0;bottom: 0;left: 50%;z-index: -1;}#sk-container-id-1 div.sk-parallel-item {display: flex;flex-direction: column;z-index: 1;position: relative;background-color: white;}#sk-container-id-1 div.sk-parallel-item:first-child::after {align-self: flex-end;width: 50%;}#sk-container-id-1 div.sk-parallel-item:last-child::after {align-self: flex-start;width: 50%;}#sk-container-id-1 div.sk-parallel-item:only-child::after {width: 0;}#sk-container-id-1 div.sk-dashed-wrapped {border: 1px dashed gray;margin: 0 0.4em 0.5em 0.4em;box-sizing: border-box;padding-bottom: 0.4em;background-color: white;}#sk-container-id-1 div.sk-label label {font-family: monospace;font-weight: bold;display: inline-block;line-height: 1.2em;}#sk-container-id-1 div.sk-label-container {text-align: center;}#sk-container-id-1 div.sk-container {/* jupyter's `normalize.less` sets `[hidden] { display: none; }` but bootstrap.min.css set `[hidden] { display: none !important; }` so we also need the `!important` here to be able to override the default hidden behavior on the sphinx rendered scikit-learn.org. See: https://github.com/scikit-learn/scikit-learn/issues/21755 */display: inline-block !important;position: relative;}#sk-container-id-1 div.sk-text-repr-fallback {display: none;}</style><div id=\"sk-container-id-1\" class=\"sk-top-container\"><div class=\"sk-text-repr-fallback\"><pre>KNeighborsClassifier(metric=&#x27;euclidean&#x27;, n_neighbors=3)</pre><b>In a Jupyter environment, please rerun this cell to show the HTML representation or trust the notebook. <br />On GitHub, the HTML representation is unable to render, please try loading this page with nbviewer.org.</b></div><div class=\"sk-container\" hidden><div class=\"sk-item\"><div class=\"sk-estimator sk-toggleable\"><input class=\"sk-toggleable__control sk-hidden--visually\" id=\"sk-estimator-id-1\" type=\"checkbox\" checked><label for=\"sk-estimator-id-1\" class=\"sk-toggleable__label sk-toggleable__label-arrow\">KNeighborsClassifier</label><div class=\"sk-toggleable__content\"><pre>KNeighborsClassifier(metric=&#x27;euclidean&#x27;, n_neighbors=3)</pre></div></div></div></div></div>"
      ],
      "text/plain": [
       "KNeighborsClassifier(metric='euclidean', n_neighbors=3)"
      ]
     },
     "execution_count": 20,
     "metadata": {},
     "output_type": "execute_result"
    }
   ],
   "source": [
    "knn = KNeighborsClassifier(n_neighbors=3, metric = \"euclidean\")\n",
    "knn.fit(X_train[[\"balanced_normalized\", \"income_normalized\"]], y_train)\n",
    "#or\n",
    "#knn.fit(train_transformed, y_train)"
   ]
  },
  {
   "cell_type": "code",
   "execution_count": 21,
   "id": "f8b267fc-fb56-465b-9d44-ada5dffa9f6e",
   "metadata": {},
   "outputs": [
    {
     "data": {
      "text/plain": [
       "array(['No', 'No', 'No', ..., 'No', 'No', 'No'], dtype=object)"
      ]
     },
     "execution_count": 21,
     "metadata": {},
     "output_type": "execute_result"
    }
   ],
   "source": [
    "predictions = knn.predict(X_test[[\"balanced_normalized\", \"income_normalized\"]])\n",
    "#or\n",
    "#predictions = knn.predict(transformed)\n",
    "predictions"
   ]
  },
  {
   "cell_type": "code",
   "execution_count": 22,
   "id": "d4b3b7aa-3d4d-47ee-b588-ec34fb4f20bd",
   "metadata": {},
   "outputs": [
    {
     "data": {
      "text/plain": [
       "6252    No\n",
       "4684    No\n",
       "1731    No\n",
       "4742    No\n",
       "4521    No\n",
       "        ..\n",
       "6412    No\n",
       "8285    No\n",
       "7853    No\n",
       "1095    No\n",
       "6929    No\n",
       "Name: default, Length: 2000, dtype: object"
      ]
     },
     "execution_count": 22,
     "metadata": {},
     "output_type": "execute_result"
    }
   ],
   "source": [
    "y_test"
   ]
  },
  {
   "cell_type": "markdown",
   "id": "7aeae7ce-82b0-44f2-baaa-de5e6786877b",
   "metadata": {},
   "source": [
    "### computing accuracy"
   ]
  },
  {
   "cell_type": "code",
   "execution_count": 23,
   "id": "1d15cc61-bfb8-4889-9214-d2c756aa3ab5",
   "metadata": {},
   "outputs": [],
   "source": [
    "from sklearn.metrics import accuracy_score"
   ]
  },
  {
   "cell_type": "code",
   "execution_count": 24,
   "id": "427a623d-f83f-4418-a9e2-326468913ca1",
   "metadata": {},
   "outputs": [
    {
     "name": "stdout",
     "output_type": "stream",
     "text": [
      "Accuracy on test data:  0.96\n"
     ]
    }
   ],
   "source": [
    "test_accuracy = accuracy_score(y_test, predictions)\n",
    "print(\"Accuracy on test data: \",test_accuracy)"
   ]
  },
  {
   "cell_type": "code",
   "execution_count": 25,
   "id": "4412f4be-bad3-4a69-81f1-c984fccdc9c2",
   "metadata": {},
   "outputs": [
    {
     "name": "stdout",
     "output_type": "stream",
     "text": [
      "Accuracy on training data:  0.978625\n"
     ]
    }
   ],
   "source": [
    "train_predictions = knn.predict(X_train[[\"balanced_normalized\", \"income_normalized\"]])\n",
    "train_accuracy = accuracy_score(y_train, train_predictions)\n",
    "print(\"Accuracy on training data: \", train_accuracy)"
   ]
  },
  {
   "cell_type": "markdown",
   "id": "0b2608fe-571b-4178-a2a7-d12be0c41512",
   "metadata": {},
   "source": [
    "### 2. k=5"
   ]
  },
  {
   "cell_type": "code",
   "execution_count": 26,
   "id": "38e39786-33d1-484b-b4d0-d9638ab4a6b2",
   "metadata": {},
   "outputs": [
    {
     "name": "stdout",
     "output_type": "stream",
     "text": [
      "Accuracy on test data:  0.959\n",
      "Accuracy on training data:  0.9755\n"
     ]
    }
   ],
   "source": [
    "knn_5 = KNeighborsClassifier(n_neighbors=5, metric = \"euclidean\")\n",
    "knn_5.fit(X_train[[\"balanced_normalized\", \"income_normalized\"]], y_train)\n",
    "predictions = knn_5.predict(X_test[[\"balanced_normalized\", \"income_normalized\"]])\n",
    "test_accuracy = accuracy_score(y_test, predictions)\n",
    "print(\"Accuracy on test data: \",test_accuracy)\n",
    "train_predictions = knn_5.predict(X_train[[\"balanced_normalized\", \"income_normalized\"]])\n",
    "train_accuracy = accuracy_score(y_train, train_predictions)\n",
    "print(\"Accuracy on training data: \", train_accuracy)"
   ]
  },
  {
   "cell_type": "markdown",
   "id": "2bcf95e4-5a36-442f-bcb9-d72e072f8836",
   "metadata": {},
   "source": [
    "### Finding optional value of k"
   ]
  },
  {
   "cell_type": "code",
   "execution_count": 27,
   "id": "7c1656b1-be8f-4526-85ec-299f1d431221",
   "metadata": {},
   "outputs": [],
   "source": [
    "train_accuracies = []\n",
    "test_accuracies = []\n",
    "for i in range(1,16,2):\n",
    "    knn = KNeighborsClassifier(n_neighbors=i, metric = \"euclidean\")\n",
    "    knn.fit(X_train[[\"balanced_normalized\", \"income_normalized\"]], y_train)\n",
    "    predictions = knn.predict(X_test[[\"balanced_normalized\", \"income_normalized\"]])\n",
    "    train_predictions = knn.predict(X_train[[\"balanced_normalized\", \"income_normalized\"]])\n",
    "    test_accuracy = accuracy_score(y_test, predictions)\n",
    "    test_accuracies.append(test_accuracy)\n",
    "    train_accuracy = accuracy_score(y_train, train_predictions)\n",
    "    train_accuracies.append(train_accuracy)\n",
    "    "
   ]
  },
  {
   "cell_type": "code",
   "execution_count": 28,
   "id": "a8d50a71-f36b-4a47-9cfb-96e9aedbdab8",
   "metadata": {},
   "outputs": [
    {
     "data": {
      "text/plain": [
       "([1.0, 0.978625, 0.9755, 0.976375, 0.97475, 0.9745, 0.974375, 0.97475],\n",
       " [0.949, 0.96, 0.959, 0.9585, 0.96, 0.9595, 0.957, 0.959])"
      ]
     },
     "execution_count": 28,
     "metadata": {},
     "output_type": "execute_result"
    }
   ],
   "source": [
    "train_accuracies, test_accuracies"
   ]
  },
  {
   "cell_type": "code",
   "execution_count": 29,
   "id": "b00305eb-fbe0-40df-a411-3bb6203277c3",
   "metadata": {},
   "outputs": [
    {
     "data": {
      "text/plain": [
       "<matplotlib.legend.Legend at 0x20c8e3f7fd0>"
      ]
     },
     "execution_count": 29,
     "metadata": {},
     "output_type": "execute_result"
    },
    {
     "data": {
      "image/png": "[encoded data removed]",
      "text/plain": [
       "<Figure size 640x480 with 1 Axes>"
      ]
     },
     "metadata": {},
     "output_type": "display_data"
    }
   ],
   "source": [
    "k_values = list(range(1,16,2))\n",
    "plt.plot(k_values, train_accuracies)\n",
    "plt.plot(k_values, test_accuracies)\n",
    "plt.legend([\"train_accuracy\", \"test_accuracy\"])"
   ]
  },
  {
   "cell_type": "markdown",
   "id": "f9d48f93-a024-47ef-91c8-49e8db2449a1",
   "metadata": {},
   "source": [
    "### Fitting with initial optimal value of k"
   ]
  },
  {
   "cell_type": "code",
   "execution_count": 30,
   "id": "772acef2-e2cc-4a8b-a972-485571fb7bcf",
   "metadata": {},
   "outputs": [
    {
     "name": "stdout",
     "output_type": "stream",
     "text": [
      "Accuracy on test data:  0.96\n",
      "Accuracy on training data:  0.97475\n"
     ]
    }
   ],
   "source": [
    "knn = KNeighborsClassifier(n_neighbors=9, metric = \"euclidean\")\n",
    "knn.fit(X_train[[\"balanced_normalized\", \"income_normalized\"]], y_train)\n",
    "predictions = knn.predict(X_test[[\"balanced_normalized\", \"income_normalized\"]])\n",
    "test_accuracy = accuracy_score(y_test, predictions)\n",
    "print(\"Accuracy on test data: \",test_accuracy)\n",
    "train_predictions = knn.predict(X_train[[\"balanced_normalized\", \"income_normalized\"]])\n",
    "train_accuracy = accuracy_score(y_train, train_predictions)\n",
    "print(\"Accuracy on training data: \", train_accuracy)"
   ]
  },
  {
   "cell_type": "markdown",
   "id": "8d5c197c-0785-4732-8967-c26eea443d18",
   "metadata": {},
   "source": [
    "### Validation Split\n",
    "### 1.Simple train and validation split"
   ]
  },
  {
   "cell_type": "code",
   "execution_count": 31,
   "id": "1d7f260b-573d-4678-b781-8fb09b29dfbf",
   "metadata": {},
   "outputs": [
    {
     "data": {
      "text/plain": [
       "(8000, 4)"
      ]
     },
     "execution_count": 31,
     "metadata": {},
     "output_type": "execute_result"
    }
   ],
   "source": [
    "X_train.shape\n"
   ]
  },
  {
   "cell_type": "code",
   "execution_count": 32,
   "id": "ce8cee02-794b-46bc-b774-23ff29063c82",
   "metadata": {},
   "outputs": [
    {
     "data": {
      "text/plain": [
       "(8000,)"
      ]
     },
     "execution_count": 32,
     "metadata": {},
     "output_type": "execute_result"
    }
   ],
   "source": [
    "y_train.shape"
   ]
  },
  {
   "cell_type": "code",
   "execution_count": 33,
   "id": "47283c70-c9c5-465c-8ce4-7799cb45c076",
   "metadata": {},
   "outputs": [],
   "source": [
    "x_train, x_val, y_train_new, y_val = train_test_split(X_train[[\"balanced_normalized\", \"income_normalized\"]], y_train, test_size=0.2, random_state=42)"
   ]
  },
  {
   "cell_type": "code",
   "execution_count": 34,
   "id": "25daa4e1-03d5-4e63-b192-aa1204801883",
   "metadata": {},
   "outputs": [
    {
     "name": "stdout",
     "output_type": "stream",
     "text": [
      "Size of training data:  6400\n",
      "Size of validation data:  1600\n"
     ]
    }
   ],
   "source": [
    "print(\"Size of training data: \", x_train.shape[0])\n",
    "print(\"Size of validation data: \", x_val.shape[0])"
   ]
  },
  {
   "cell_type": "code",
   "execution_count": 35,
   "id": "17ead1f3-5da2-4d86-9f00-db408e16bb54",
   "metadata": {},
   "outputs": [],
   "source": [
    "train_accuracies = []\n",
    "val_accuracies = []\n",
    "for i in range(1,16,2):\n",
    "    knn = KNeighborsClassifier(n_neighbors=i, metric = \"euclidean\")\n",
    "    knn.fit(x_train, y_train_new)\n",
    "    val_predictions = knn.predict(x_val)\n",
    "    val_accuracy = accuracy_score(y_val, val_predictions)\n",
    "    val_accuracies.append(val_accuracy)\n",
    "    train_predictions = knn.predict(x_train)\n",
    "    train_accuracy = accuracy_score(y_train_new, train_predictions)\n",
    "    train_accuracies.append(train_accuracy)\n",
    "    "
   ]
  },
  {
   "cell_type": "code",
   "execution_count": 36,
   "id": "f22cc35f-abdd-44ae-a46b-ff9e2a5b73c1",
   "metadata": {},
   "outputs": [
    {
     "data": {
      "text/plain": [
       "<matplotlib.legend.Legend at 0x20c8bc2acd0>"
      ]
     },
     "execution_count": 36,
     "metadata": {},
     "output_type": "execute_result"
    },
    {
     "data": {
      "image/png": "[encoded data removed]",
      "text/plain": [
       "<Figure size 640x480 with 1 Axes>"
      ]
     },
     "metadata": {},
     "output_type": "display_data"
    }
   ],
   "source": [
    "k_values = list(range(1,16,2))\n",
    "plt.plot(k_values, train_accuracies)\n",
    "plt.plot(k_values, val_accuracies)\n",
    "plt.legend([\"train_accuracy\", \"validation_accuracy\"])"
   ]
  },
  {
   "cell_type": "code",
   "execution_count": 37,
   "id": "a2d09c32-e5ac-4e65-8d5e-9e2daaf63754",
   "metadata": {},
   "outputs": [
    {
     "data": {
      "text/plain": [
       "0.97"
      ]
     },
     "execution_count": 37,
     "metadata": {},
     "output_type": "execute_result"
    }
   ],
   "source": [
    "#fitting with optimal value of k\n",
    "knn=KNeighborsClassifier(n_neighbors=5, metric=\"euclidean\")\n",
    "knn.fit(x_train, y_train_new)\n",
    "val_predictions = knn.predict(x_val)\n",
    "val_accuracy = accuracy_score(y_val, val_predictions)\n",
    "val_accuracy"
   ]
  },
  {
   "cell_type": "code",
   "execution_count": 38,
   "id": "cfaa04c5-16c1-4277-8314-b3d8279ec5fd",
   "metadata": {},
   "outputs": [
    {
     "data": {
      "text/plain": [
       "0.96"
      ]
     },
     "execution_count": 38,
     "metadata": {},
     "output_type": "execute_result"
    }
   ],
   "source": [
    "predictions = knn.predict(X_test[[\"balanced_normalized\",\"income_normalized\"]])\n",
    "test_accuracy = accuracy_score(y_test, predictions)\n",
    "test_accuracy"
   ]
  },
  {
   "cell_type": "markdown",
   "id": "cbd450bd-e48b-4cc8-a698-8911d9e5f5f5",
   "metadata": {},
   "source": [
    "### 2.Cross Validation"
   ]
  },
  {
   "cell_type": "code",
   "execution_count": 39,
   "id": "c4596dbd-b2b1-4c86-851e-0b99d3579e88",
   "metadata": {},
   "outputs": [],
   "source": [
    "from sklearn.model_selection import cross_validate"
   ]
  },
  {
   "cell_type": "code",
   "execution_count": 40,
   "id": "8d90785c-6d8a-4688-8212-1d78e85b9cde",
   "metadata": {},
   "outputs": [],
   "source": [
    "knn = KNeighborsClassifier(n_neighbors=5, metric=\"euclidean\")"
   ]
  },
  {
   "cell_type": "code",
   "execution_count": 41,
   "id": "632994c7-591f-4f5b-a4c1-c81192fd6834",
   "metadata": {},
   "outputs": [
    {
     "data": {
      "text/plain": [
       "{'fit_time': array([0.0115428 , 0.01589298, 0.01604438, 0.01055741, 0.01996827]),\n",
       " 'score_time': array([0.08301711, 0.09459043, 0.08059025, 0.08376765, 0.10610533]),\n",
       " 'test_score': array([0.974375, 0.96625 , 0.97125 , 0.965625, 0.971875]),\n",
       " 'train_score': array([0.9740625 , 0.97703125, 0.97640625, 0.97671875, 0.97546875])}"
      ]
     },
     "execution_count": 41,
     "metadata": {},
     "output_type": "execute_result"
    }
   ],
   "source": [
    "cv_results=cross_validate(knn, X_train[[\"balanced_normalized\",\"income_normalized\"]], y_train, cv=5, return_train_score=True)\n",
    "cv_results"
   ]
  },
  {
   "cell_type": "code",
   "execution_count": 42,
   "id": "9b2c3fb2-1daf-4baa-b500-675c8427a82c",
   "metadata": {},
   "outputs": [
    {
     "name": "stdout",
     "output_type": "stream",
     "text": [
      "Training data accuracy:  97.59375\n",
      "Validation data average accuracy:  96.98750000000001\n"
     ]
    }
   ],
   "source": [
    "print(\"Training data accuracy: \", cv_results[\"train_score\"].mean()*100)\n",
    "print(\"Validation data average accuracy: \", cv_results[\"test_score\"].mean()*100)"
   ]
  },
  {
   "cell_type": "code",
   "execution_count": null,
   "id": "6e3ad98f-8984-47a8-9421-9954f91d2ee3",
   "metadata": {},
   "outputs": [],
   "source": []
  },
  {
   "cell_type": "markdown",
   "id": "6c392209-10bb-4cb4-ac18-5bdf58a58e8f",
   "metadata": {},
   "source": [
    "### Hyper-parameter using GridSearch"
   ]
  },
  {
   "cell_type": "code",
   "execution_count": 43,
   "id": "981b577a-9e5d-4ba4-80cf-dcf035f9db28",
   "metadata": {},
   "outputs": [],
   "source": [
    "from sklearn.model_selection import GridSearchCV"
   ]
  },
  {
   "cell_type": "code",
   "execution_count": 44,
   "id": "bac807fa-8dd9-4253-b8af-0b1bbd281b37",
   "metadata": {},
   "outputs": [],
   "source": [
    "knn = KNeighborsClassifier(metric=\"euclidean\")"
   ]
  },
  {
   "cell_type": "code",
   "execution_count": 45,
   "id": "4485919a-a51b-494a-97f4-915527fcf0cf",
   "metadata": {},
   "outputs": [],
   "source": [
    "para=np.arange(1,16,2)"
   ]
  },
  {
   "cell_type": "code",
   "execution_count": 46,
   "id": "5d100c38-49c4-4380-8fea-7718fb75e11c",
   "metadata": {},
   "outputs": [],
   "source": [
    "param_grid = {\"n_neighbors\" : para}"
   ]
  },
  {
   "cell_type": "code",
   "execution_count": 47,
   "id": "5c7a38f4-25fb-4df9-ac34-b26d63a9bf26",
   "metadata": {},
   "outputs": [],
   "source": [
    "knn_with_gs = GridSearchCV(knn, param_grid, return_train_score = True, verbose=1, scoring=\"accuracy\")"
   ]
  },
  {
   "cell_type": "code",
   "execution_count": 48,
   "id": "a7d92b8e-3371-437e-b0ef-1f7106e1d7dd",
   "metadata": {},
   "outputs": [
    {
     "name": "stdout",
     "output_type": "stream",
     "text": [
      "Fitting 5 folds for each of 8 candidates, totalling 40 fits\n"
     ]
    },
    {
     "data": {
      "text/html": [
       "<style>#sk-container-id-2 {color: black;background-color: white;}#sk-container-id-2 pre{padding: 0;}#sk-container-id-2 div.sk-toggleable {background-color: white;}#sk-container-id-2 label.sk-toggleable__label {cursor: pointer;display: block;width: 100%;margin-bottom: 0;padding: 0.3em;box-sizing: border-box;text-align: center;}#sk-container-id-2 label.sk-toggleable__label-arrow:before {content: \"▸\";float: left;margin-right: 0.25em;color: #696969;}#sk-container-id-2 label.sk-toggleable__label-arrow:hover:before {color: black;}#sk-container-id-2 div.sk-estimator:hover label.sk-toggleable__label-arrow:before {color: black;}#sk-container-id-2 div.sk-toggleable__content {max-height: 0;max-width: 0;overflow: hidden;text-align: left;background-color: #f0f8ff;}#sk-container-id-2 div.sk-toggleable__content pre {margin: 0.2em;color: black;border-radius: 0.25em;background-color: #f0f8ff;}#sk-container-id-2 input.sk-toggleable__control:checked~div.sk-toggleable__content {max-height: 200px;max-width: 100%;overflow: auto;}#sk-container-id-2 input.sk-toggleable__control:checked~label.sk-toggleable__label-arrow:before {content: \"▾\";}#sk-container-id-2 div.sk-estimator input.sk-toggleable__control:checked~label.sk-toggleable__label {background-color: #d4ebff;}#sk-container-id-2 div.sk-label input.sk-toggleable__control:checked~label.sk-toggleable__label {background-color: #d4ebff;}#sk-container-id-2 input.sk-hidden--visually {border: 0;clip: rect(1px 1px 1px 1px);clip: rect(1px, 1px, 1px, 1px);height: 1px;margin: -1px;overflow: hidden;padding: 0;position: absolute;width: 1px;}#sk-container-id-2 div.sk-estimator {font-family: monospace;background-color: #f0f8ff;border: 1px dotted black;border-radius: 0.25em;box-sizing: border-box;margin-bottom: 0.5em;}#sk-container-id-2 div.sk-estimator:hover {background-color: #d4ebff;}#sk-container-id-2 div.sk-parallel-item::after {content: \"\";width: 100%;border-bottom: 1px solid gray;flex-grow: 1;}#sk-container-id-2 div.sk-label:hover label.sk-toggleable__label {background-color: #d4ebff;}#sk-container-id-2 div.sk-serial::before {content: \"\";position: absolute;border-left: 1px solid gray;box-sizing: border-box;top: 0;bottom: 0;left: 50%;z-index: 0;}#sk-container-id-2 div.sk-serial {display: flex;flex-direction: column;align-items: center;background-color: white;padding-right: 0.2em;padding-left: 0.2em;position: relative;}#sk-container-id-2 div.sk-item {position: relative;z-index: 1;}#sk-container-id-2 div.sk-parallel {display: flex;align-items: stretch;justify-content: center;background-color: white;position: relative;}#sk-container-id-2 div.sk-item::before, #sk-container-id-2 div.sk-parallel-item::before {content: \"\";position: absolute;border-left: 1px solid gray;box-sizing: border-box;top: 0;bottom: 0;left: 50%;z-index: -1;}#sk-container-id-2 div.sk-parallel-item {display: flex;flex-direction: column;z-index: 1;position: relative;background-color: white;}#sk-container-id-2 div.sk-parallel-item:first-child::after {align-self: flex-end;width: 50%;}#sk-container-id-2 div.sk-parallel-item:last-child::after {align-self: flex-start;width: 50%;}#sk-container-id-2 div.sk-parallel-item:only-child::after {width: 0;}#sk-container-id-2 div.sk-dashed-wrapped {border: 1px dashed gray;margin: 0 0.4em 0.5em 0.4em;box-sizing: border-box;padding-bottom: 0.4em;background-color: white;}#sk-container-id-2 div.sk-label label {font-family: monospace;font-weight: bold;display: inline-block;line-height: 1.2em;}#sk-container-id-2 div.sk-label-container {text-align: center;}#sk-container-id-2 div.sk-container {/* jupyter's `normalize.less` sets `[hidden] { display: none; }` but bootstrap.min.css set `[hidden] { display: none !important; }` so we also need the `!important` here to be able to override the default hidden behavior on the sphinx rendered scikit-learn.org. See: https://github.com/scikit-learn/scikit-learn/issues/21755 */display: inline-block !important;position: relative;}#sk-container-id-2 div.sk-text-repr-fallback {display: none;}</style><div id=\"sk-container-id-2\" class=\"sk-top-container\"><div class=\"sk-text-repr-fallback\"><pre>GridSearchCV(estimator=KNeighborsClassifier(metric=&#x27;euclidean&#x27;),\n",
       "             param_grid={&#x27;n_neighbors&#x27;: array([ 1,  3,  5,  7,  9, 11, 13, 15])},\n",
       "             return_train_score=True, scoring=&#x27;accuracy&#x27;, verbose=1)</pre><b>In a Jupyter environment, please rerun this cell to show the HTML representation or trust the notebook. <br />On GitHub, the HTML representation is unable to render, please try loading this page with nbviewer.org.</b></div><div class=\"sk-container\" hidden><div class=\"sk-item sk-dashed-wrapped\"><div class=\"sk-label-container\"><div class=\"sk-label sk-toggleable\"><input class=\"sk-toggleable__control sk-hidden--visually\" id=\"sk-estimator-id-2\" type=\"checkbox\" ><label for=\"sk-estimator-id-2\" class=\"sk-toggleable__label sk-toggleable__label-arrow\">GridSearchCV</label><div class=\"sk-toggleable__content\"><pre>GridSearchCV(estimator=KNeighborsClassifier(metric=&#x27;euclidean&#x27;),\n",
       "             param_grid={&#x27;n_neighbors&#x27;: array([ 1,  3,  5,  7,  9, 11, 13, 15])},\n",
       "             return_train_score=True, scoring=&#x27;accuracy&#x27;, verbose=1)</pre></div></div></div><div class=\"sk-parallel\"><div class=\"sk-parallel-item\"><div class=\"sk-item\"><div class=\"sk-label-container\"><div class=\"sk-label sk-toggleable\"><input class=\"sk-toggleable__control sk-hidden--visually\" id=\"sk-estimator-id-3\" type=\"checkbox\" ><label for=\"sk-estimator-id-3\" class=\"sk-toggleable__label sk-toggleable__label-arrow\">estimator: KNeighborsClassifier</label><div class=\"sk-toggleable__content\"><pre>KNeighborsClassifier(metric=&#x27;euclidean&#x27;)</pre></div></div></div><div class=\"sk-serial\"><div class=\"sk-item\"><div class=\"sk-estimator sk-toggleable\"><input class=\"sk-toggleable__control sk-hidden--visually\" id=\"sk-estimator-id-4\" type=\"checkbox\" ><label for=\"sk-estimator-id-4\" class=\"sk-toggleable__label sk-toggleable__label-arrow\">KNeighborsClassifier</label><div class=\"sk-toggleable__content\"><pre>KNeighborsClassifier(metric=&#x27;euclidean&#x27;)</pre></div></div></div></div></div></div></div></div></div></div>"
      ],
      "text/plain": [
       "GridSearchCV(estimator=KNeighborsClassifier(metric='euclidean'),\n",
       "             param_grid={'n_neighbors': array([ 1,  3,  5,  7,  9, 11, 13, 15])},\n",
       "             return_train_score=True, scoring='accuracy', verbose=1)"
      ]
     },
     "execution_count": 48,
     "metadata": {},
     "output_type": "execute_result"
    }
   ],
   "source": [
    "knn_with_gs.fit(X_train[[\"balanced_normalized\",\"income_normalized\"]], y_train)"
   ]
  },
  {
   "cell_type": "code",
   "execution_count": 49,
   "id": "13c61405-e735-4867-8149-6ea7afbafc82",
   "metadata": {},
   "outputs": [
    {
     "data": {
      "text/plain": [
       "{'mean_fit_time': array([0.00806274, 0.01020594, 0.01618805, 0.00902414, 0.00743704,\n",
       "        0.01684723, 0.01572285, 0.0119657 ]),\n",
       " 'std_fit_time': array([0.00390562, 0.00715119, 0.00919847, 0.0065588 , 0.00529907,\n",
       "        0.00423688, 0.00052934, 0.00464853]),\n",
       " 'mean_score_time': array([0.07465134, 0.10458446, 0.09799047, 0.08699827, 0.0919775 ,\n",
       "        0.1036902 , 0.11361895, 0.08833942]),\n",
       " 'std_score_time': array([0.01010068, 0.0289128 , 0.01353595, 0.01325987, 0.00994106,\n",
       "        0.01524074, 0.03709538, 0.0117969 ]),\n",
       " 'param_n_neighbors': masked_array(data=[1, 3, 5, 7, 9, 11, 13, 15],\n",
       "              mask=[False, False, False, False, False, False, False, False],\n",
       "        fill_value='?',\n",
       "             dtype=object),\n",
       " 'params': [{'n_neighbors': 1},\n",
       "  {'n_neighbors': 3},\n",
       "  {'n_neighbors': 5},\n",
       "  {'n_neighbors': 7},\n",
       "  {'n_neighbors': 9},\n",
       "  {'n_neighbors': 11},\n",
       "  {'n_neighbors': 13},\n",
       "  {'n_neighbors': 15}],\n",
       " 'split0_test_score': array([0.95875 , 0.970625, 0.974375, 0.975   , 0.97625 , 0.975625,\n",
       "        0.976875, 0.976875]),\n",
       " 'split1_test_score': array([0.955   , 0.963125, 0.96625 , 0.9675  , 0.97    , 0.97125 ,\n",
       "        0.969375, 0.970625]),\n",
       " 'split2_test_score': array([0.955625, 0.968125, 0.97125 , 0.971875, 0.974375, 0.975625,\n",
       "        0.973125, 0.973125]),\n",
       " 'split3_test_score': array([0.95375 , 0.96375 , 0.965625, 0.966875, 0.969375, 0.96875 ,\n",
       "        0.97125 , 0.97    ]),\n",
       " 'split4_test_score': array([0.95375 , 0.968125, 0.971875, 0.973125, 0.97625 , 0.97625 ,\n",
       "        0.975   , 0.9725  ]),\n",
       " 'mean_test_score': array([0.955375, 0.96675 , 0.969875, 0.970875, 0.97325 , 0.9735  ,\n",
       "        0.973125, 0.972625]),\n",
       " 'std_test_score': array([0.00183712, 0.00286138, 0.00338655, 0.00317707, 0.00299479,\n",
       "        0.00297384, 0.00265165, 0.00241738]),\n",
       " 'rank_test_score': array([8, 7, 6, 5, 2, 1, 3, 4]),\n",
       " 'split0_train_score': array([1.        , 0.97703125, 0.9740625 , 0.9759375 , 0.9740625 ,\n",
       "        0.97546875, 0.97515625, 0.97453125]),\n",
       " 'split1_train_score': array([1.        , 0.97921875, 0.97703125, 0.97703125, 0.97578125,\n",
       "        0.97546875, 0.97546875, 0.975     ]),\n",
       " 'split2_train_score': array([1.        , 0.97875   , 0.97640625, 0.9759375 , 0.975     ,\n",
       "        0.9746875 , 0.974375  , 0.97484375]),\n",
       " 'split3_train_score': array([1.        , 0.97828125, 0.97671875, 0.97609375, 0.97625   ,\n",
       "        0.975     , 0.9759375 , 0.9753125 ]),\n",
       " 'split4_train_score': array([1.        , 0.97890625, 0.97546875, 0.97484375, 0.97453125,\n",
       "        0.97328125, 0.9740625 , 0.97390625]),\n",
       " 'mean_train_score': array([1.        , 0.9784375 , 0.9759375 , 0.97596875, 0.975125  ,\n",
       "        0.97478125, 0.975     , 0.97471875]),\n",
       " 'std_train_score': array([0.        , 0.00076547, 0.00107347, 0.00069457, 0.00079917,\n",
       "        0.00080647, 0.00069175, 0.00047803])}"
      ]
     },
     "execution_count": 49,
     "metadata": {},
     "output_type": "execute_result"
    }
   ],
   "source": [
    "knn_with_gs.cv_results_"
   ]
  },
  {
   "cell_type": "code",
   "execution_count": 50,
   "id": "18378ef9-aeac-4479-83b3-c06bab6aea88",
   "metadata": {},
   "outputs": [
    {
     "data": {
      "text/html": [
       "<style>#sk-container-id-3 {color: black;background-color: white;}#sk-container-id-3 pre{padding: 0;}#sk-container-id-3 div.sk-toggleable {background-color: white;}#sk-container-id-3 label.sk-toggleable__label {cursor: pointer;display: block;width: 100%;margin-bottom: 0;padding: 0.3em;box-sizing: border-box;text-align: center;}#sk-container-id-3 label.sk-toggleable__label-arrow:before {content: \"▸\";float: left;margin-right: 0.25em;color: #696969;}#sk-container-id-3 label.sk-toggleable__label-arrow:hover:before {color: black;}#sk-container-id-3 div.sk-estimator:hover label.sk-toggleable__label-arrow:before {color: black;}#sk-container-id-3 div.sk-toggleable__content {max-height: 0;max-width: 0;overflow: hidden;text-align: left;background-color: #f0f8ff;}#sk-container-id-3 div.sk-toggleable__content pre {margin: 0.2em;color: black;border-radius: 0.25em;background-color: #f0f8ff;}#sk-container-id-3 input.sk-toggleable__control:checked~div.sk-toggleable__content {max-height: 200px;max-width: 100%;overflow: auto;}#sk-container-id-3 input.sk-toggleable__control:checked~label.sk-toggleable__label-arrow:before {content: \"▾\";}#sk-container-id-3 div.sk-estimator input.sk-toggleable__control:checked~label.sk-toggleable__label {background-color: #d4ebff;}#sk-container-id-3 div.sk-label input.sk-toggleable__control:checked~label.sk-toggleable__label {background-color: #d4ebff;}#sk-container-id-3 input.sk-hidden--visually {border: 0;clip: rect(1px 1px 1px 1px);clip: rect(1px, 1px, 1px, 1px);height: 1px;margin: -1px;overflow: hidden;padding: 0;position: absolute;width: 1px;}#sk-container-id-3 div.sk-estimator {font-family: monospace;background-color: #f0f8ff;border: 1px dotted black;border-radius: 0.25em;box-sizing: border-box;margin-bottom: 0.5em;}#sk-container-id-3 div.sk-estimator:hover {background-color: #d4ebff;}#sk-container-id-3 div.sk-parallel-item::after {content: \"\";width: 100%;border-bottom: 1px solid gray;flex-grow: 1;}#sk-container-id-3 div.sk-label:hover label.sk-toggleable__label {background-color: #d4ebff;}#sk-container-id-3 div.sk-serial::before {content: \"\";position: absolute;border-left: 1px solid gray;box-sizing: border-box;top: 0;bottom: 0;left: 50%;z-index: 0;}#sk-container-id-3 div.sk-serial {display: flex;flex-direction: column;align-items: center;background-color: white;padding-right: 0.2em;padding-left: 0.2em;position: relative;}#sk-container-id-3 div.sk-item {position: relative;z-index: 1;}#sk-container-id-3 div.sk-parallel {display: flex;align-items: stretch;justify-content: center;background-color: white;position: relative;}#sk-container-id-3 div.sk-item::before, #sk-container-id-3 div.sk-parallel-item::before {content: \"\";position: absolute;border-left: 1px solid gray;box-sizing: border-box;top: 0;bottom: 0;left: 50%;z-index: -1;}#sk-container-id-3 div.sk-parallel-item {display: flex;flex-direction: column;z-index: 1;position: relative;background-color: white;}#sk-container-id-3 div.sk-parallel-item:first-child::after {align-self: flex-end;width: 50%;}#sk-container-id-3 div.sk-parallel-item:last-child::after {align-self: flex-start;width: 50%;}#sk-container-id-3 div.sk-parallel-item:only-child::after {width: 0;}#sk-container-id-3 div.sk-dashed-wrapped {border: 1px dashed gray;margin: 0 0.4em 0.5em 0.4em;box-sizing: border-box;padding-bottom: 0.4em;background-color: white;}#sk-container-id-3 div.sk-label label {font-family: monospace;font-weight: bold;display: inline-block;line-height: 1.2em;}#sk-container-id-3 div.sk-label-container {text-align: center;}#sk-container-id-3 div.sk-container {/* jupyter's `normalize.less` sets `[hidden] { display: none; }` but bootstrap.min.css set `[hidden] { display: none !important; }` so we also need the `!important` here to be able to override the default hidden behavior on the sphinx rendered scikit-learn.org. See: https://github.com/scikit-learn/scikit-learn/issues/21755 */display: inline-block !important;position: relative;}#sk-container-id-3 div.sk-text-repr-fallback {display: none;}</style><div id=\"sk-container-id-3\" class=\"sk-top-container\"><div class=\"sk-text-repr-fallback\"><pre>KNeighborsClassifier(metric=&#x27;euclidean&#x27;, n_neighbors=11)</pre><b>In a Jupyter environment, please rerun this cell to show the HTML representation or trust the notebook. <br />On GitHub, the HTML representation is unable to render, please try loading this page with nbviewer.org.</b></div><div class=\"sk-container\" hidden><div class=\"sk-item\"><div class=\"sk-estimator sk-toggleable\"><input class=\"sk-toggleable__control sk-hidden--visually\" id=\"sk-estimator-id-5\" type=\"checkbox\" checked><label for=\"sk-estimator-id-5\" class=\"sk-toggleable__label sk-toggleable__label-arrow\">KNeighborsClassifier</label><div class=\"sk-toggleable__content\"><pre>KNeighborsClassifier(metric=&#x27;euclidean&#x27;, n_neighbors=11)</pre></div></div></div></div></div>"
      ],
      "text/plain": [
       "KNeighborsClassifier(metric='euclidean', n_neighbors=11)"
      ]
     },
     "execution_count": 50,
     "metadata": {},
     "output_type": "execute_result"
    }
   ],
   "source": [
    "knn_with_gs.best_estimator_"
   ]
  },
  {
   "cell_type": "code",
   "execution_count": 51,
   "id": "68d5fea0-b10a-4cb0-93c3-489c2161c637",
   "metadata": {},
   "outputs": [
    {
     "data": {
      "text/html": [
       "<div>\n",
       "<style scoped>\n",
       "    .dataframe tbody tr th:only-of-type {\n",
       "        vertical-align: middle;\n",
       "    }\n",
       "\n",
       "    .dataframe tbody tr th {\n",
       "        vertical-align: top;\n",
       "    }\n",
       "\n",
       "    .dataframe thead th {\n",
       "        text-align: right;\n",
       "    }\n",
       "</style>\n",
       "<table border=\"1\" class=\"dataframe\">\n",
       "  <thead>\n",
       "    <tr style=\"text-align: right;\">\n",
       "      <th></th>\n",
       "      <th>param_n_neighbors</th>\n",
       "      <th>mean_train_score</th>\n",
       "      <th>mean_test_score</th>\n",
       "    </tr>\n",
       "  </thead>\n",
       "  <tbody>\n",
       "    <tr>\n",
       "      <th>0</th>\n",
       "      <td>1</td>\n",
       "      <td>1.000000</td>\n",
       "      <td>0.955375</td>\n",
       "    </tr>\n",
       "    <tr>\n",
       "      <th>1</th>\n",
       "      <td>3</td>\n",
       "      <td>0.978437</td>\n",
       "      <td>0.966750</td>\n",
       "    </tr>\n",
       "    <tr>\n",
       "      <th>2</th>\n",
       "      <td>5</td>\n",
       "      <td>0.975938</td>\n",
       "      <td>0.969875</td>\n",
       "    </tr>\n",
       "    <tr>\n",
       "      <th>3</th>\n",
       "      <td>7</td>\n",
       "      <td>0.975969</td>\n",
       "      <td>0.970875</td>\n",
       "    </tr>\n",
       "    <tr>\n",
       "      <th>4</th>\n",
       "      <td>9</td>\n",
       "      <td>0.975125</td>\n",
       "      <td>0.973250</td>\n",
       "    </tr>\n",
       "    <tr>\n",
       "      <th>5</th>\n",
       "      <td>11</td>\n",
       "      <td>0.974781</td>\n",
       "      <td>0.973500</td>\n",
       "    </tr>\n",
       "    <tr>\n",
       "      <th>6</th>\n",
       "      <td>13</td>\n",
       "      <td>0.975000</td>\n",
       "      <td>0.973125</td>\n",
       "    </tr>\n",
       "    <tr>\n",
       "      <th>7</th>\n",
       "      <td>15</td>\n",
       "      <td>0.974719</td>\n",
       "      <td>0.972625</td>\n",
       "    </tr>\n",
       "  </tbody>\n",
       "</table>\n",
       "</div>"
      ],
      "text/plain": [
       "  param_n_neighbors  mean_train_score  mean_test_score\n",
       "0                 1          1.000000         0.955375\n",
       "1                 3          0.978437         0.966750\n",
       "2                 5          0.975938         0.969875\n",
       "3                 7          0.975969         0.970875\n",
       "4                 9          0.975125         0.973250\n",
       "5                11          0.974781         0.973500\n",
       "6                13          0.975000         0.973125\n",
       "7                15          0.974719         0.972625"
      ]
     },
     "execution_count": 51,
     "metadata": {},
     "output_type": "execute_result"
    }
   ],
   "source": [
    "tuned_df = pd.DataFrame(knn_with_gs.cv_results_)\n",
    "tuned_df = tuned_df[[\"param_n_neighbors\", \"mean_train_score\", \"mean_test_score\"]]\n",
    "tuned_df"
   ]
  },
  {
   "cell_type": "code",
   "execution_count": 52,
   "id": "6ca1ee7c-4678-4b7f-9082-4c86a40d07f0",
   "metadata": {},
   "outputs": [
    {
     "data": {
      "text/plain": [
       "0.9595"
      ]
     },
     "execution_count": 52,
     "metadata": {},
     "output_type": "execute_result"
    }
   ],
   "source": [
    "knn_9 = KNeighborsClassifier(n_neighbors = 11, metric = \"euclidean\")\n",
    "knn_9.fit(X_train[[\"balanced_normalized\",\"income_normalized\"]], y_train)\n",
    "predictions = knn_9.predict(X_test[[\"balanced_normalized\",\"income_normalized\"]])\n",
    "test_accuracy = accuracy_score(y_test, predictions)\n",
    "test_accuracy"
   ]
  },
  {
   "cell_type": "code",
   "execution_count": null,
   "id": "072ce601-c325-4c0f-8529-65ebb8876078",
   "metadata": {},
   "outputs": [],
   "source": []
  },
  {
   "cell_type": "code",
   "execution_count": null,
   "id": "41492788-3d51-45f5-ba35-5390c67e7317",
   "metadata": {},
   "outputs": [],
   "source": []
  },
  {
   "cell_type": "code",
   "execution_count": null,
   "id": "62f37eac-5b62-4fbe-ae13-ac64256b6285",
   "metadata": {},
   "outputs": [],
   "source": []
  },
  {
   "cell_type": "code",
   "execution_count": null,
   "id": "4e55347e-37af-4dce-833a-4c54330499ca",
   "metadata": {},
   "outputs": [],
   "source": []
  },
  {
   "cell_type": "markdown",
   "id": "c36e10db-e361-4e72-8ff7-27045897e59a",
   "metadata": {},
   "source": [
    "### Precision & Recall"
   ]
  },
  {
   "cell_type": "code",
   "execution_count": 53,
   "id": "47e7ad8b-ea6e-4c3b-9bf5-951a06a7b6f4",
   "metadata": {},
   "outputs": [],
   "source": [
    "from sklearn.metrics import precision_score, recall_score"
   ]
  },
  {
   "cell_type": "code",
   "execution_count": 54,
   "id": "f90e9c5f-f177-46f1-acaf-66161b225005",
   "metadata": {},
   "outputs": [
    {
     "data": {
      "text/plain": [
       "0.4142857142857143"
      ]
     },
     "execution_count": 54,
     "metadata": {},
     "output_type": "execute_result"
    }
   ],
   "source": [
    "precision_score(y_test, predictions, pos_label = \"Yes\")"
   ]
  },
  {
   "cell_type": "code",
   "execution_count": 56,
   "id": "153fc401-fc86-4420-8cf4-815a98a968e6",
   "metadata": {},
   "outputs": [
    {
     "data": {
      "text/plain": [
       "0.42028985507246375"
      ]
     },
     "execution_count": 56,
     "metadata": {},
     "output_type": "execute_result"
    }
   ],
   "source": [
    "recall_score(y_test, predictions, pos_label = \"Yes\")"
   ]
  },
  {
   "cell_type": "code",
   "execution_count": 55,
   "id": "a56d0b2b-3017-49e4-91a0-e30d3371b8fb",
   "metadata": {},
   "outputs": [
    {
     "data": {
      "text/plain": [
       "0.9787674779906784"
      ]
     },
     "execution_count": 55,
     "metadata": {},
     "output_type": "execute_result"
    }
   ],
   "source": [
    "recall_score(y_test, predictions, pos_label = \"No\")"
   ]
  },
  {
   "cell_type": "markdown",
   "id": "7e91848b-f68b-46d5-b321-ca61be6029d8",
   "metadata": {},
   "source": [
    "### F1-score"
   ]
  },
  {
   "cell_type": "code",
   "execution_count": 57,
   "id": "4063f18c-911a-4db2-a13e-2ba226c967b2",
   "metadata": {},
   "outputs": [],
   "source": [
    "from sklearn.metrics import f1_score"
   ]
  },
  {
   "cell_type": "code",
   "execution_count": 58,
   "id": "68673b3b-5599-4ec7-b855-d47ec14db989",
   "metadata": {},
   "outputs": [
    {
     "data": {
      "text/plain": [
       "0.9790209790209791"
      ]
     },
     "execution_count": 58,
     "metadata": {},
     "output_type": "execute_result"
    }
   ],
   "source": [
    "f1_score(y_test, predictions, pos_label=\"No\")"
   ]
  },
  {
   "cell_type": "code",
   "execution_count": 59,
   "id": "a21b42f5-982b-491c-be68-d5df076f7b59",
   "metadata": {},
   "outputs": [
    {
     "data": {
      "text/plain": [
       "0.4172661870503597"
      ]
     },
     "execution_count": 59,
     "metadata": {},
     "output_type": "execute_result"
    }
   ],
   "source": [
    "f1_score(y_test, predictions, pos_label = \"Yes\")"
   ]
  },
  {
   "cell_type": "code",
   "execution_count": 60,
   "id": "00cd15d5-bd39-44de-b7bc-62c7f013f815",
   "metadata": {},
   "outputs": [
    {
     "name": "stdout",
     "output_type": "stream",
     "text": [
      "              precision    recall  f1-score   support\n",
      "\n",
      "          No       0.98      0.98      0.98      1931\n",
      "         Yes       0.41      0.42      0.42        69\n",
      "\n",
      "    accuracy                           0.96      2000\n",
      "   macro avg       0.70      0.70      0.70      2000\n",
      "weighted avg       0.96      0.96      0.96      2000\n",
      "\n"
     ]
    }
   ],
   "source": [
    "from sklearn.metrics import classification_report\n",
    "print(classification_report(y_test,predictions))"
   ]
  },
  {
   "cell_type": "code",
   "execution_count": null,
   "id": "fd69165b-063e-4def-8d3a-532a76c340ab",
   "metadata": {},
   "outputs": [],
   "source": []
  }
 ],
 "metadata": {
  "kernelspec": {
   "display_name": "Python 3 (ipykernel)",
   "language": "python",
   "name": "python3"
  },
  "language_info": {
   "codemirror_mode": {
    "name": "ipython",
    "version": 3
   },
   "file_extension": ".py",
   "mimetype": "text/x-python",
   "name": "python",
   "nbconvert_exporter": "python",
   "pygments_lexer": "ipython3",
   "version": "3.11.7"
  }
 },
 "nbformat": 4,
 "nbformat_minor": 5
}
