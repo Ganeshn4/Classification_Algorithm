{
 "cells": [
  {
   "cell_type": "code",
   "execution_count": 1,
   "id": "f57e4a5a-9ad9-4634-a72e-76cf6a91916b",
   "metadata": {},
   "outputs": [],
   "source": [
    "import numpy as np\n",
    "import pandas as pd\n",
    "import matplotlib.pyplot as plt\n",
    "%matplotlib inline"
   ]
  },
  {
   "cell_type": "code",
   "execution_count": 2,
   "id": "2dbe1d4b-2205-4c8b-be3f-e339da7e6e95",
   "metadata": {},
   "outputs": [],
   "source": [
    "import warnings\n",
    "warnings.filterwarnings('ignore')"
   ]
  },
  {
   "cell_type": "markdown",
   "id": "661cee79-4e0c-4eef-b46e-ca3f569cb756",
   "metadata": {},
   "source": [
    "### Logistic Regression is type of classification algorithm and not a regression technique"
   ]
  },
  {
   "cell_type": "code",
   "execution_count": 3,
   "id": "be586d4f-2124-44f0-b76f-244a947c7406",
   "metadata": {},
   "outputs": [
    {
     "data": {
      "text/html": [
       "<div>\n",
       "<style scoped>\n",
       "    .dataframe tbody tr th:only-of-type {\n",
       "        vertical-align: middle;\n",
       "    }\n",
       "\n",
       "    .dataframe tbody tr th {\n",
       "        vertical-align: top;\n",
       "    }\n",
       "\n",
       "    .dataframe thead th {\n",
       "        text-align: right;\n",
       "    }\n",
       "</style>\n",
       "<table border=\"1\" class=\"dataframe\">\n",
       "  <thead>\n",
       "    <tr style=\"text-align: right;\">\n",
       "      <th></th>\n",
       "      <th>User ID</th>\n",
       "      <th>Gender</th>\n",
       "      <th>Age</th>\n",
       "      <th>EstimatedSalary</th>\n",
       "      <th>Purchased</th>\n",
       "    </tr>\n",
       "  </thead>\n",
       "  <tbody>\n",
       "    <tr>\n",
       "      <th>0</th>\n",
       "      <td>15624510</td>\n",
       "      <td>Male</td>\n",
       "      <td>19</td>\n",
       "      <td>19000</td>\n",
       "      <td>0</td>\n",
       "    </tr>\n",
       "    <tr>\n",
       "      <th>1</th>\n",
       "      <td>15810944</td>\n",
       "      <td>Male</td>\n",
       "      <td>35</td>\n",
       "      <td>20000</td>\n",
       "      <td>0</td>\n",
       "    </tr>\n",
       "    <tr>\n",
       "      <th>2</th>\n",
       "      <td>15668575</td>\n",
       "      <td>Female</td>\n",
       "      <td>26</td>\n",
       "      <td>43000</td>\n",
       "      <td>0</td>\n",
       "    </tr>\n",
       "    <tr>\n",
       "      <th>3</th>\n",
       "      <td>15603246</td>\n",
       "      <td>Female</td>\n",
       "      <td>27</td>\n",
       "      <td>57000</td>\n",
       "      <td>0</td>\n",
       "    </tr>\n",
       "    <tr>\n",
       "      <th>4</th>\n",
       "      <td>15804002</td>\n",
       "      <td>Male</td>\n",
       "      <td>19</td>\n",
       "      <td>76000</td>\n",
       "      <td>0</td>\n",
       "    </tr>\n",
       "  </tbody>\n",
       "</table>\n",
       "</div>"
      ],
      "text/plain": [
       "    User ID  Gender  Age  EstimatedSalary  Purchased\n",
       "0  15624510    Male   19            19000          0\n",
       "1  15810944    Male   35            20000          0\n",
       "2  15668575  Female   26            43000          0\n",
       "3  15603246  Female   27            57000          0\n",
       "4  15804002    Male   19            76000          0"
      ]
     },
     "execution_count": 3,
     "metadata": {},
     "output_type": "execute_result"
    }
   ],
   "source": [
    "df=pd.read_csv('Customer_Actions.csv')\n",
    "df.head()"
   ]
  },
  {
   "cell_type": "code",
   "execution_count": 4,
   "id": "579be541-d895-4888-b608-43e7679e77de",
   "metadata": {},
   "outputs": [
    {
     "name": "stdout",
     "output_type": "stream",
     "text": [
      "Size of data :  (350, 5)\n"
     ]
    }
   ],
   "source": [
    "print(\"Size of data : \", df.shape)"
   ]
  },
  {
   "cell_type": "markdown",
   "id": "a4cdf1f0-89ab-414c-a3c6-285c432e11f6",
   "metadata": {},
   "source": [
    "### 1.Age vs puchasing behaviour"
   ]
  },
  {
   "cell_type": "code",
   "execution_count": 5,
   "id": "46d7ef02-7b09-49df-a2b0-d16093a32f7d",
   "metadata": {},
   "outputs": [
    {
     "data": {
      "image/png": "[encoded data removed]",
      "text/plain": [
       "<Figure size 640x480 with 1 Axes>"
      ]
     },
     "metadata": {},
     "output_type": "display_data"
    }
   ],
   "source": [
    "plt.scatter(df['Age'],df['Purchased'])\n",
    "plt.title('Age vs Purchasing behaviour')\n",
    "plt.xlabel('Age')\n",
    "plt.ylabel('Purchasing behaviour')\n",
    "plt.show()"
   ]
  },
  {
   "cell_type": "code",
   "execution_count": 6,
   "id": "5aa57743-f943-4150-9976-e32fa985693c",
   "metadata": {},
   "outputs": [],
   "source": [
    "from sklearn.preprocessing import LabelEncoder"
   ]
  },
  {
   "cell_type": "code",
   "execution_count": 7,
   "id": "14f2bfa7-baad-4511-910b-8b3ba348b6a4",
   "metadata": {},
   "outputs": [],
   "source": [
    "label_encoder = LabelEncoder()\n",
    "df[\"Gender_encoded\"] = label_encoder.fit_transform(df[\"Gender\"])"
   ]
  },
  {
   "cell_type": "code",
   "execution_count": 8,
   "id": "cd3d925c-a9d7-4a74-b9c5-dea391d754a5",
   "metadata": {},
   "outputs": [
    {
     "data": {
      "text/html": [
       "<div>\n",
       "<style scoped>\n",
       "    .dataframe tbody tr th:only-of-type {\n",
       "        vertical-align: middle;\n",
       "    }\n",
       "\n",
       "    .dataframe tbody tr th {\n",
       "        vertical-align: top;\n",
       "    }\n",
       "\n",
       "    .dataframe thead th {\n",
       "        text-align: right;\n",
       "    }\n",
       "</style>\n",
       "<table border=\"1\" class=\"dataframe\">\n",
       "  <thead>\n",
       "    <tr style=\"text-align: right;\">\n",
       "      <th></th>\n",
       "      <th>User ID</th>\n",
       "      <th>Gender</th>\n",
       "      <th>Age</th>\n",
       "      <th>EstimatedSalary</th>\n",
       "      <th>Purchased</th>\n",
       "      <th>Gender_encoded</th>\n",
       "    </tr>\n",
       "  </thead>\n",
       "  <tbody>\n",
       "    <tr>\n",
       "      <th>0</th>\n",
       "      <td>15624510</td>\n",
       "      <td>Male</td>\n",
       "      <td>19</td>\n",
       "      <td>19000</td>\n",
       "      <td>0</td>\n",
       "      <td>1</td>\n",
       "    </tr>\n",
       "    <tr>\n",
       "      <th>1</th>\n",
       "      <td>15810944</td>\n",
       "      <td>Male</td>\n",
       "      <td>35</td>\n",
       "      <td>20000</td>\n",
       "      <td>0</td>\n",
       "      <td>1</td>\n",
       "    </tr>\n",
       "    <tr>\n",
       "      <th>2</th>\n",
       "      <td>15668575</td>\n",
       "      <td>Female</td>\n",
       "      <td>26</td>\n",
       "      <td>43000</td>\n",
       "      <td>0</td>\n",
       "      <td>0</td>\n",
       "    </tr>\n",
       "    <tr>\n",
       "      <th>3</th>\n",
       "      <td>15603246</td>\n",
       "      <td>Female</td>\n",
       "      <td>27</td>\n",
       "      <td>57000</td>\n",
       "      <td>0</td>\n",
       "      <td>0</td>\n",
       "    </tr>\n",
       "    <tr>\n",
       "      <th>4</th>\n",
       "      <td>15804002</td>\n",
       "      <td>Male</td>\n",
       "      <td>19</td>\n",
       "      <td>76000</td>\n",
       "      <td>0</td>\n",
       "      <td>1</td>\n",
       "    </tr>\n",
       "  </tbody>\n",
       "</table>\n",
       "</div>"
      ],
      "text/plain": [
       "    User ID  Gender  Age  EstimatedSalary  Purchased  Gender_encoded\n",
       "0  15624510    Male   19            19000          0               1\n",
       "1  15810944    Male   35            20000          0               1\n",
       "2  15668575  Female   26            43000          0               0\n",
       "3  15603246  Female   27            57000          0               0\n",
       "4  15804002    Male   19            76000          0               1"
      ]
     },
     "execution_count": 8,
     "metadata": {},
     "output_type": "execute_result"
    }
   ],
   "source": [
    "df.head()"
   ]
  },
  {
   "cell_type": "code",
   "execution_count": 9,
   "id": "00b00401-c390-4043-ab48-a8887ec6d72d",
   "metadata": {},
   "outputs": [],
   "source": [
    "X=df[['Gender_encoded','Age', 'EstimatedSalary']]\n",
    "y=df['Purchased']"
   ]
  },
  {
   "cell_type": "markdown",
   "id": "7ee09504-6b0e-44a3-b9bd-f1903bc7d0a4",
   "metadata": {},
   "source": [
    "### Train Test Split"
   ]
  },
  {
   "cell_type": "code",
   "execution_count": 10,
   "id": "a04578b0-a652-470a-b65b-504ce7566640",
   "metadata": {},
   "outputs": [],
   "source": [
    "from sklearn.model_selection import train_test_split"
   ]
  },
  {
   "cell_type": "code",
   "execution_count": 11,
   "id": "6081574b-d0f3-4d66-bb83-6b2b3200fd9e",
   "metadata": {},
   "outputs": [],
   "source": [
    "X_train, X_test, y_train, y_test = train_test_split(X,y, test_size=0.25, random_state = 0)"
   ]
  },
  {
   "cell_type": "code",
   "execution_count": 12,
   "id": "2673bc4c-c01f-42ad-a9eb-152bde741546",
   "metadata": {},
   "outputs": [
    {
     "name": "stdout",
     "output_type": "stream",
     "text": [
      "Size of training data :  262\n",
      "Size of test data :  88\n"
     ]
    }
   ],
   "source": [
    "print(\"Size of training data : \", X_train.shape[0])\n",
    "print(\"Size of test data : \", X_test.shape[0])"
   ]
  },
  {
   "cell_type": "markdown",
   "id": "77a4de59-4168-464a-b8b3-5c71500e5a11",
   "metadata": {},
   "source": [
    "### Normalization"
   ]
  },
  {
   "cell_type": "code",
   "execution_count": 13,
   "id": "70942a41-738e-4215-a48a-a975ec535c53",
   "metadata": {},
   "outputs": [],
   "source": [
    "from sklearn.preprocessing import MinMaxScaler"
   ]
  },
  {
   "cell_type": "code",
   "execution_count": 14,
   "id": "26862e1e-53c2-440f-9260-b813eb7512ae",
   "metadata": {},
   "outputs": [
    {
     "data": {
      "text/plain": [
       "array([[0.21428571, 0.51111111],\n",
       "       [0.26190476, 0.5037037 ],\n",
       "       [0.5952381 , 0.87407407],\n",
       "       [0.11904762, 0.03703704],\n",
       "       [0.57142857, 0.42962963],\n",
       "       [0.23809524, 0.12592593],\n",
       "       [0.02380952, 0.08148148],\n",
       "       [0.4047619 , 0.44444444],\n",
       "       [0.0952381 , 0.48888889],\n",
       "       [0.61904762, 0.17777778],\n",
       "       [0.71428571, 0.77037037],\n",
       "       [0.0952381 , 0.35555556],\n",
       "       [0.45238095, 0.28148148],\n",
       "       [0.28571429, 0.53333333],\n",
       "       [0.19047619, 0.        ],\n",
       "       [0.04761905, 0.4962963 ],\n",
       "       [0.07142857, 0.39259259],\n",
       "       [0.42857143, 0.33333333],\n",
       "       [0.66666667, 0.6       ],\n",
       "       [0.52380952, 0.31111111],\n",
       "       [0.54761905, 0.27407407],\n",
       "       [0.76190476, 0.15555556],\n",
       "       [0.28571429, 0.25185185],\n",
       "       [0.35714286, 0.99259259],\n",
       "       [0.19047619, 0.        ],\n",
       "       [0.73809524, 0.0962963 ],\n",
       "       [0.26190476, 0.48148148],\n",
       "       [0.4047619 , 0.25925926],\n",
       "       [0.        , 0.27407407],\n",
       "       [0.11904762, 0.0962963 ],\n",
       "       [0.97619048, 0.5037037 ],\n",
       "       [0.21428571, 0.03703704],\n",
       "       [0.21428571, 0.31851852],\n",
       "       [0.57142857, 0.48148148],\n",
       "       [0.14285714, 0.2962963 ],\n",
       "       [0.21428571, 0.54074074],\n",
       "       [0.97619048, 0.2       ],\n",
       "       [0.28571429, 0.47407407],\n",
       "       [0.23809524, 0.53333333],\n",
       "       [0.64285714, 0.05185185],\n",
       "       [0.97619048, 0.54074074],\n",
       "       [0.30952381, 0.14074074],\n",
       "       [0.19047619, 0.48148148],\n",
       "       [0.69047619, 0.66666667],\n",
       "       [0.64285714, 0.47407407],\n",
       "       [0.33333333, 0.52592593],\n",
       "       [0.23809524, 0.32592593],\n",
       "       [0.95238095, 0.63703704],\n",
       "       [0.07142857, 0.54074074],\n",
       "       [0.45238095, 0.2962963 ],\n",
       "       [0.23809524, 0.2962963 ],\n",
       "       [0.47619048, 0.34074074],\n",
       "       [0.47619048, 0.2962963 ],\n",
       "       [0.33333333, 1.        ],\n",
       "       [0.14285714, 0.31851852],\n",
       "       [0.88095238, 0.85185185],\n",
       "       [0.42857143, 0.25925926],\n",
       "       [0.95238095, 0.59259259],\n",
       "       [0.33333333, 0.02222222],\n",
       "       [0.33333333, 0.75555556],\n",
       "       [0.76190476, 0.21481481],\n",
       "       [0.92857143, 0.33333333],\n",
       "       [0.11904762, 0.24444444],\n",
       "       [0.78571429, 0.97037037],\n",
       "       [0.38095238, 0.07407407],\n",
       "       [0.19047619, 0.14814815],\n",
       "       [0.19047619, 0.11111111],\n",
       "       [0.42857143, 0.44444444],\n",
       "       [0.97619048, 0.94814815],\n",
       "       [0.33333333, 0.77777778],\n",
       "       [0.71428571, 0.55555556],\n",
       "       [0.83333333, 0.94814815],\n",
       "       [0.52380952, 0.33333333],\n",
       "       [0.69047619, 0.25185185],\n",
       "       [0.11904762, 0.35555556],\n",
       "       [0.47619048, 0.25925926],\n",
       "       [0.30952381, 0.54814815],\n",
       "       [0.45238095, 0.40740741],\n",
       "       [0.45238095, 0.46666667],\n",
       "       [0.38095238, 0.74074074],\n",
       "       [1.        , 0.64444444],\n",
       "       [0.69047619, 0.23703704],\n",
       "       [0.45238095, 0.34814815],\n",
       "       [0.71428571, 0.19259259],\n",
       "       [0.42857143, 0.95555556],\n",
       "       [0.66666667, 0.4962963 ],\n",
       "       [0.02380952, 0.51851852],\n",
       "       [0.42857143, 0.82222222]])"
      ]
     },
     "execution_count": 14,
     "metadata": {},
     "output_type": "execute_result"
    }
   ],
   "source": [
    "min_max = MinMaxScaler()\n",
    "min_max.fit(X_train[['Age','EstimatedSalary']])\n",
    "train_transformed = min_max.transform(X_train[['Age','EstimatedSalary']])\n",
    "test_transformed = min_max.transform(X_test[[\"Age\", \"EstimatedSalary\"]])\n",
    "test_transformed"
   ]
  },
  {
   "cell_type": "code",
   "execution_count": 15,
   "id": "0ae69d33-5652-4b67-b447-0c1171c745f2",
   "metadata": {},
   "outputs": [
    {
     "data": {
      "text/html": [
       "<div>\n",
       "<style scoped>\n",
       "    .dataframe tbody tr th:only-of-type {\n",
       "        vertical-align: middle;\n",
       "    }\n",
       "\n",
       "    .dataframe tbody tr th {\n",
       "        vertical-align: top;\n",
       "    }\n",
       "\n",
       "    .dataframe thead th {\n",
       "        text-align: right;\n",
       "    }\n",
       "</style>\n",
       "<table border=\"1\" class=\"dataframe\">\n",
       "  <thead>\n",
       "    <tr style=\"text-align: right;\">\n",
       "      <th></th>\n",
       "      <th>Gender_encoded</th>\n",
       "      <th>Age</th>\n",
       "      <th>EstimatedSalary</th>\n",
       "      <th>Age_normalized</th>\n",
       "      <th>EstimatedSalary_normalized</th>\n",
       "    </tr>\n",
       "  </thead>\n",
       "  <tbody>\n",
       "    <tr>\n",
       "      <th>66</th>\n",
       "      <td>1</td>\n",
       "      <td>24</td>\n",
       "      <td>19000</td>\n",
       "      <td>0.142857</td>\n",
       "      <td>0.029630</td>\n",
       "    </tr>\n",
       "    <tr>\n",
       "      <th>126</th>\n",
       "      <td>1</td>\n",
       "      <td>42</td>\n",
       "      <td>65000</td>\n",
       "      <td>0.571429</td>\n",
       "      <td>0.370370</td>\n",
       "    </tr>\n",
       "    <tr>\n",
       "      <th>12</th>\n",
       "      <td>1</td>\n",
       "      <td>20</td>\n",
       "      <td>86000</td>\n",
       "      <td>0.047619</td>\n",
       "      <td>0.525926</td>\n",
       "    </tr>\n",
       "    <tr>\n",
       "      <th>221</th>\n",
       "      <td>1</td>\n",
       "      <td>35</td>\n",
       "      <td>91000</td>\n",
       "      <td>0.404762</td>\n",
       "      <td>0.562963</td>\n",
       "    </tr>\n",
       "    <tr>\n",
       "      <th>316</th>\n",
       "      <td>0</td>\n",
       "      <td>54</td>\n",
       "      <td>104000</td>\n",
       "      <td>0.857143</td>\n",
       "      <td>0.659259</td>\n",
       "    </tr>\n",
       "  </tbody>\n",
       "</table>\n",
       "</div>"
      ],
      "text/plain": [
       "     Gender_encoded  Age  EstimatedSalary  Age_normalized  \\\n",
       "66                1   24            19000        0.142857   \n",
       "126               1   42            65000        0.571429   \n",
       "12                1   20            86000        0.047619   \n",
       "221               1   35            91000        0.404762   \n",
       "316               0   54           104000        0.857143   \n",
       "\n",
       "     EstimatedSalary_normalized  \n",
       "66                     0.029630  \n",
       "126                    0.370370  \n",
       "12                     0.525926  \n",
       "221                    0.562963  \n",
       "316                    0.659259  "
      ]
     },
     "execution_count": 15,
     "metadata": {},
     "output_type": "execute_result"
    }
   ],
   "source": [
    "X_train[\"Age_normalized\"] = train_transformed[:,0]\n",
    "X_train[\"EstimatedSalary_normalized\"] = train_transformed[:,1]\n",
    "X_train.head()"
   ]
  },
  {
   "cell_type": "code",
   "execution_count": 16,
   "id": "8c6f1226-6e00-46b6-aef0-03fa56d02394",
   "metadata": {},
   "outputs": [
    {
     "data": {
      "text/html": [
       "<div>\n",
       "<style scoped>\n",
       "    .dataframe tbody tr th:only-of-type {\n",
       "        vertical-align: middle;\n",
       "    }\n",
       "\n",
       "    .dataframe tbody tr th {\n",
       "        vertical-align: top;\n",
       "    }\n",
       "\n",
       "    .dataframe thead th {\n",
       "        text-align: right;\n",
       "    }\n",
       "</style>\n",
       "<table border=\"1\" class=\"dataframe\">\n",
       "  <thead>\n",
       "    <tr style=\"text-align: right;\">\n",
       "      <th></th>\n",
       "      <th>Gender_encoded</th>\n",
       "      <th>Age</th>\n",
       "      <th>EstimatedSalary</th>\n",
       "      <th>Age_normalized</th>\n",
       "      <th>EstimatedSalary_normalized</th>\n",
       "    </tr>\n",
       "  </thead>\n",
       "  <tbody>\n",
       "    <tr>\n",
       "      <th>6</th>\n",
       "      <td>0</td>\n",
       "      <td>27</td>\n",
       "      <td>84000</td>\n",
       "      <td>0.214286</td>\n",
       "      <td>0.511111</td>\n",
       "    </tr>\n",
       "    <tr>\n",
       "      <th>52</th>\n",
       "      <td>0</td>\n",
       "      <td>29</td>\n",
       "      <td>83000</td>\n",
       "      <td>0.261905</td>\n",
       "      <td>0.503704</td>\n",
       "    </tr>\n",
       "    <tr>\n",
       "      <th>270</th>\n",
       "      <td>0</td>\n",
       "      <td>43</td>\n",
       "      <td>133000</td>\n",
       "      <td>0.595238</td>\n",
       "      <td>0.874074</td>\n",
       "    </tr>\n",
       "    <tr>\n",
       "      <th>45</th>\n",
       "      <td>1</td>\n",
       "      <td>23</td>\n",
       "      <td>20000</td>\n",
       "      <td>0.119048</td>\n",
       "      <td>0.037037</td>\n",
       "    </tr>\n",
       "    <tr>\n",
       "      <th>296</th>\n",
       "      <td>1</td>\n",
       "      <td>42</td>\n",
       "      <td>73000</td>\n",
       "      <td>0.571429</td>\n",
       "      <td>0.429630</td>\n",
       "    </tr>\n",
       "  </tbody>\n",
       "</table>\n",
       "</div>"
      ],
      "text/plain": [
       "     Gender_encoded  Age  EstimatedSalary  Age_normalized  \\\n",
       "6                 0   27            84000        0.214286   \n",
       "52                0   29            83000        0.261905   \n",
       "270               0   43           133000        0.595238   \n",
       "45                1   23            20000        0.119048   \n",
       "296               1   42            73000        0.571429   \n",
       "\n",
       "     EstimatedSalary_normalized  \n",
       "6                      0.511111  \n",
       "52                     0.503704  \n",
       "270                    0.874074  \n",
       "45                     0.037037  \n",
       "296                    0.429630  "
      ]
     },
     "execution_count": 16,
     "metadata": {},
     "output_type": "execute_result"
    }
   ],
   "source": [
    "X_test[\"Age_normalized\"] = test_transformed[:,0]\n",
    "X_test[\"EstimatedSalary_normalized\"] = test_transformed[:,1]\n",
    "X_test.head()"
   ]
  },
  {
   "cell_type": "markdown",
   "id": "ed0038db-d54d-4c2c-99b4-ca33cecbf964",
   "metadata": {},
   "source": [
    "### Fitting Logistic Regression models"
   ]
  },
  {
   "cell_type": "markdown",
   "id": "dad5f3fb-53b5-4743-ba80-6eeda09acce1",
   "metadata": {},
   "source": [
    "### Model 1 - Using Age only"
   ]
  },
  {
   "cell_type": "code",
   "execution_count": 17,
   "id": "90ebc69d-d18e-483b-8e01-d1d1588859d1",
   "metadata": {},
   "outputs": [],
   "source": [
    "from sklearn.linear_model import LogisticRegression"
   ]
  },
  {
   "cell_type": "code",
   "execution_count": 18,
   "id": "ab1f2dcd-45f5-4dac-8383-a5df896b81f8",
   "metadata": {},
   "outputs": [
    {
     "data": {
      "text/html": [
       "<style>#sk-container-id-1 {color: black;background-color: white;}#sk-container-id-1 pre{padding: 0;}#sk-container-id-1 div.sk-toggleable {background-color: white;}#sk-container-id-1 label.sk-toggleable__label {cursor: pointer;display: block;width: 100%;margin-bottom: 0;padding: 0.3em;box-sizing: border-box;text-align: center;}#sk-container-id-1 label.sk-toggleable__label-arrow:before {content: \"▸\";float: left;margin-right: 0.25em;color: #696969;}#sk-container-id-1 label.sk-toggleable__label-arrow:hover:before {color: black;}#sk-container-id-1 div.sk-estimator:hover label.sk-toggleable__label-arrow:before {color: black;}#sk-container-id-1 div.sk-toggleable__content {max-height: 0;max-width: 0;overflow: hidden;text-align: left;background-color: #f0f8ff;}#sk-container-id-1 div.sk-toggleable__content pre {margin: 0.2em;color: black;border-radius: 0.25em;background-color: #f0f8ff;}#sk-container-id-1 input.sk-toggleable__control:checked~div.sk-toggleable__content {max-height: 200px;max-width: 100%;overflow: auto;}#sk-container-id-1 input.sk-toggleable__control:checked~label.sk-toggleable__label-arrow:before {content: \"▾\";}#sk-container-id-1 div.sk-estimator input.sk-toggleable__control:checked~label.sk-toggleable__label {background-color: #d4ebff;}#sk-container-id-1 div.sk-label input.sk-toggleable__control:checked~label.sk-toggleable__label {background-color: #d4ebff;}#sk-container-id-1 input.sk-hidden--visually {border: 0;clip: rect(1px 1px 1px 1px);clip: rect(1px, 1px, 1px, 1px);height: 1px;margin: -1px;overflow: hidden;padding: 0;position: absolute;width: 1px;}#sk-container-id-1 div.sk-estimator {font-family: monospace;background-color: #f0f8ff;border: 1px dotted black;border-radius: 0.25em;box-sizing: border-box;margin-bottom: 0.5em;}#sk-container-id-1 div.sk-estimator:hover {background-color: #d4ebff;}#sk-container-id-1 div.sk-parallel-item::after {content: \"\";width: 100%;border-bottom: 1px solid gray;flex-grow: 1;}#sk-container-id-1 div.sk-label:hover label.sk-toggleable__label {background-color: #d4ebff;}#sk-container-id-1 div.sk-serial::before {content: \"\";position: absolute;border-left: 1px solid gray;box-sizing: border-box;top: 0;bottom: 0;left: 50%;z-index: 0;}#sk-container-id-1 div.sk-serial {display: flex;flex-direction: column;align-items: center;background-color: white;padding-right: 0.2em;padding-left: 0.2em;position: relative;}#sk-container-id-1 div.sk-item {position: relative;z-index: 1;}#sk-container-id-1 div.sk-parallel {display: flex;align-items: stretch;justify-content: center;background-color: white;position: relative;}#sk-container-id-1 div.sk-item::before, #sk-container-id-1 div.sk-parallel-item::before {content: \"\";position: absolute;border-left: 1px solid gray;box-sizing: border-box;top: 0;bottom: 0;left: 50%;z-index: -1;}#sk-container-id-1 div.sk-parallel-item {display: flex;flex-direction: column;z-index: 1;position: relative;background-color: white;}#sk-container-id-1 div.sk-parallel-item:first-child::after {align-self: flex-end;width: 50%;}#sk-container-id-1 div.sk-parallel-item:last-child::after {align-self: flex-start;width: 50%;}#sk-container-id-1 div.sk-parallel-item:only-child::after {width: 0;}#sk-container-id-1 div.sk-dashed-wrapped {border: 1px dashed gray;margin: 0 0.4em 0.5em 0.4em;box-sizing: border-box;padding-bottom: 0.4em;background-color: white;}#sk-container-id-1 div.sk-label label {font-family: monospace;font-weight: bold;display: inline-block;line-height: 1.2em;}#sk-container-id-1 div.sk-label-container {text-align: center;}#sk-container-id-1 div.sk-container {/* jupyter's `normalize.less` sets `[hidden] { display: none; }` but bootstrap.min.css set `[hidden] { display: none !important; }` so we also need the `!important` here to be able to override the default hidden behavior on the sphinx rendered scikit-learn.org. See: https://github.com/scikit-learn/scikit-learn/issues/21755 */display: inline-block !important;position: relative;}#sk-container-id-1 div.sk-text-repr-fallback {display: none;}</style><div id=\"sk-container-id-1\" class=\"sk-top-container\"><div class=\"sk-text-repr-fallback\"><pre>LogisticRegression()</pre><b>In a Jupyter environment, please rerun this cell to show the HTML representation or trust the notebook. <br />On GitHub, the HTML representation is unable to render, please try loading this page with nbviewer.org.</b></div><div class=\"sk-container\" hidden><div class=\"sk-item\"><div class=\"sk-estimator sk-toggleable\"><input class=\"sk-toggleable__control sk-hidden--visually\" id=\"sk-estimator-id-1\" type=\"checkbox\" checked><label for=\"sk-estimator-id-1\" class=\"sk-toggleable__label sk-toggleable__label-arrow\">LogisticRegression</label><div class=\"sk-toggleable__content\"><pre>LogisticRegression()</pre></div></div></div></div></div>"
      ],
      "text/plain": [
       "LogisticRegression()"
      ]
     },
     "execution_count": 18,
     "metadata": {},
     "output_type": "execute_result"
    }
   ],
   "source": [
    "logistic_model = LogisticRegression()\n",
    "logistic_model.fit(X_train[[\"Age_normalized\"]], y_train)"
   ]
  },
  {
   "cell_type": "code",
   "execution_count": 19,
   "id": "cc147690-6665-48bd-9af6-4c4b20bc721e",
   "metadata": {},
   "outputs": [
    {
     "data": {
      "text/plain": [
       "array([0, 0, 0, 0, 0, 0, 0, 0, 0, 0, 1, 0, 0, 0, 0, 0, 0, 0, 1, 0, 0, 1,\n",
       "       0, 0, 0, 1, 0, 0, 0, 0, 1, 0, 0, 0, 0, 0, 1, 0, 0, 0, 1, 0, 0, 1,\n",
       "       0, 0, 0, 1, 0, 0, 0, 0, 0, 0, 0, 1, 0, 1, 0, 0, 1, 1, 0, 1, 0, 0,\n",
       "       0, 0, 1, 0, 1, 1, 0, 1, 0, 0, 0, 0, 0, 0, 1, 1, 0, 1, 0, 1, 0, 0],\n",
       "      dtype=int64)"
      ]
     },
     "execution_count": 19,
     "metadata": {},
     "output_type": "execute_result"
    }
   ],
   "source": [
    "predictions = logistic_model.predict(X_test[[\"Age_normalized\"]])\n",
    "predictions"
   ]
  },
  {
   "cell_type": "code",
   "execution_count": 20,
   "id": "a4d60931-9622-4ec0-b47c-0cb07d8e4c08",
   "metadata": {},
   "outputs": [],
   "source": [
    "from sklearn.metrics import accuracy_score"
   ]
  },
  {
   "cell_type": "code",
   "execution_count": 21,
   "id": "6791f06a-3954-4c61-ace1-f377f3ec0d1b",
   "metadata": {},
   "outputs": [
    {
     "name": "stdout",
     "output_type": "stream",
     "text": [
      "Test data accuracy :  0.8295454545454546\n"
     ]
    }
   ],
   "source": [
    "print(\"Test data accuracy : \" ,logistic_model.score(X_test[[\"Age_normalized\"]], y_test))"
   ]
  },
  {
   "cell_type": "code",
   "execution_count": 22,
   "id": "10193ade-5cee-47aa-b441-4100d7b2f78f",
   "metadata": {},
   "outputs": [
    {
     "name": "stdout",
     "output_type": "stream",
     "text": [
      "Training data accuracy :  0.8282442748091603\n"
     ]
    }
   ],
   "source": [
    "train_predictions = logistic_model.predict(X_train[[\"Age_normalized\"]])\n",
    "print(\"Training data accuracy : \" ,logistic_model.score(X_train[[\"Age_normalized\"]], y_train))"
   ]
  },
  {
   "cell_type": "markdown",
   "id": "ad13a339-ff5d-4307-8b53-d47f9653f9ae",
   "metadata": {},
   "source": [
    "### Model 2 - Using all normalized and encoded features"
   ]
  },
  {
   "cell_type": "code",
   "execution_count": 23,
   "id": "05a1b34a-793d-4a4e-b64a-7138cfe9fbd5",
   "metadata": {},
   "outputs": [
    {
     "data": {
      "text/html": [
       "<style>#sk-container-id-2 {color: black;background-color: white;}#sk-container-id-2 pre{padding: 0;}#sk-container-id-2 div.sk-toggleable {background-color: white;}#sk-container-id-2 label.sk-toggleable__label {cursor: pointer;display: block;width: 100%;margin-bottom: 0;padding: 0.3em;box-sizing: border-box;text-align: center;}#sk-container-id-2 label.sk-toggleable__label-arrow:before {content: \"▸\";float: left;margin-right: 0.25em;color: #696969;}#sk-container-id-2 label.sk-toggleable__label-arrow:hover:before {color: black;}#sk-container-id-2 div.sk-estimator:hover label.sk-toggleable__label-arrow:before {color: black;}#sk-container-id-2 div.sk-toggleable__content {max-height: 0;max-width: 0;overflow: hidden;text-align: left;background-color: #f0f8ff;}#sk-container-id-2 div.sk-toggleable__content pre {margin: 0.2em;color: black;border-radius: 0.25em;background-color: #f0f8ff;}#sk-container-id-2 input.sk-toggleable__control:checked~div.sk-toggleable__content {max-height: 200px;max-width: 100%;overflow: auto;}#sk-container-id-2 input.sk-toggleable__control:checked~label.sk-toggleable__label-arrow:before {content: \"▾\";}#sk-container-id-2 div.sk-estimator input.sk-toggleable__control:checked~label.sk-toggleable__label {background-color: #d4ebff;}#sk-container-id-2 div.sk-label input.sk-toggleable__control:checked~label.sk-toggleable__label {background-color: #d4ebff;}#sk-container-id-2 input.sk-hidden--visually {border: 0;clip: rect(1px 1px 1px 1px);clip: rect(1px, 1px, 1px, 1px);height: 1px;margin: -1px;overflow: hidden;padding: 0;position: absolute;width: 1px;}#sk-container-id-2 div.sk-estimator {font-family: monospace;background-color: #f0f8ff;border: 1px dotted black;border-radius: 0.25em;box-sizing: border-box;margin-bottom: 0.5em;}#sk-container-id-2 div.sk-estimator:hover {background-color: #d4ebff;}#sk-container-id-2 div.sk-parallel-item::after {content: \"\";width: 100%;border-bottom: 1px solid gray;flex-grow: 1;}#sk-container-id-2 div.sk-label:hover label.sk-toggleable__label {background-color: #d4ebff;}#sk-container-id-2 div.sk-serial::before {content: \"\";position: absolute;border-left: 1px solid gray;box-sizing: border-box;top: 0;bottom: 0;left: 50%;z-index: 0;}#sk-container-id-2 div.sk-serial {display: flex;flex-direction: column;align-items: center;background-color: white;padding-right: 0.2em;padding-left: 0.2em;position: relative;}#sk-container-id-2 div.sk-item {position: relative;z-index: 1;}#sk-container-id-2 div.sk-parallel {display: flex;align-items: stretch;justify-content: center;background-color: white;position: relative;}#sk-container-id-2 div.sk-item::before, #sk-container-id-2 div.sk-parallel-item::before {content: \"\";position: absolute;border-left: 1px solid gray;box-sizing: border-box;top: 0;bottom: 0;left: 50%;z-index: -1;}#sk-container-id-2 div.sk-parallel-item {display: flex;flex-direction: column;z-index: 1;position: relative;background-color: white;}#sk-container-id-2 div.sk-parallel-item:first-child::after {align-self: flex-end;width: 50%;}#sk-container-id-2 div.sk-parallel-item:last-child::after {align-self: flex-start;width: 50%;}#sk-container-id-2 div.sk-parallel-item:only-child::after {width: 0;}#sk-container-id-2 div.sk-dashed-wrapped {border: 1px dashed gray;margin: 0 0.4em 0.5em 0.4em;box-sizing: border-box;padding-bottom: 0.4em;background-color: white;}#sk-container-id-2 div.sk-label label {font-family: monospace;font-weight: bold;display: inline-block;line-height: 1.2em;}#sk-container-id-2 div.sk-label-container {text-align: center;}#sk-container-id-2 div.sk-container {/* jupyter's `normalize.less` sets `[hidden] { display: none; }` but bootstrap.min.css set `[hidden] { display: none !important; }` so we also need the `!important` here to be able to override the default hidden behavior on the sphinx rendered scikit-learn.org. See: https://github.com/scikit-learn/scikit-learn/issues/21755 */display: inline-block !important;position: relative;}#sk-container-id-2 div.sk-text-repr-fallback {display: none;}</style><div id=\"sk-container-id-2\" class=\"sk-top-container\"><div class=\"sk-text-repr-fallback\"><pre>LogisticRegression()</pre><b>In a Jupyter environment, please rerun this cell to show the HTML representation or trust the notebook. <br />On GitHub, the HTML representation is unable to render, please try loading this page with nbviewer.org.</b></div><div class=\"sk-container\" hidden><div class=\"sk-item\"><div class=\"sk-estimator sk-toggleable\"><input class=\"sk-toggleable__control sk-hidden--visually\" id=\"sk-estimator-id-2\" type=\"checkbox\" checked><label for=\"sk-estimator-id-2\" class=\"sk-toggleable__label sk-toggleable__label-arrow\">LogisticRegression</label><div class=\"sk-toggleable__content\"><pre>LogisticRegression()</pre></div></div></div></div></div>"
      ],
      "text/plain": [
       "LogisticRegression()"
      ]
     },
     "execution_count": 23,
     "metadata": {},
     "output_type": "execute_result"
    }
   ],
   "source": [
    "logistic_model2 = LogisticRegression()\n",
    "logistic_model2.fit(X_train[[\"Gender_encoded\",\"Age_normalized\", \"EstimatedSalary_normalized\"]], y_train)"
   ]
  },
  {
   "cell_type": "code",
   "execution_count": 25,
   "id": "98782667-6791-4af5-af18-aafa264c8ce2",
   "metadata": {},
   "outputs": [
    {
     "data": {
      "text/plain": [
       "array([0, 0, 1, 0, 0, 0, 0, 0, 0, 0, 1, 0, 0, 0, 0, 0, 0, 0, 1, 0, 0, 0,\n",
       "       0, 1, 0, 0, 0, 0, 0, 0, 1, 0, 0, 0, 0, 0, 1, 0, 0, 0, 1, 0, 0, 1,\n",
       "       0, 0, 0, 1, 0, 0, 0, 0, 0, 1, 0, 1, 0, 1, 0, 0, 0, 1, 0, 1, 0, 0,\n",
       "       0, 0, 1, 0, 1, 1, 0, 0, 0, 0, 0, 0, 0, 0, 1, 0, 0, 0, 1, 1, 0, 1],\n",
       "      dtype=int64)"
      ]
     },
     "execution_count": 25,
     "metadata": {},
     "output_type": "execute_result"
    }
   ],
   "source": [
    "predictions = logistic_model2.predict(X_test[[\"Gender_encoded\",\"Age_normalized\", \"EstimatedSalary_normalized\"]])\n",
    "predictions"
   ]
  },
  {
   "cell_type": "code",
   "execution_count": 26,
   "id": "0c55d653-5a4e-4262-b57b-e55758848cfc",
   "metadata": {},
   "outputs": [
    {
     "name": "stdout",
     "output_type": "stream",
     "text": [
      "Test data accuracy : 0.8409090909090909\n"
     ]
    }
   ],
   "source": [
    "print(\"Test data accuracy :\" ,accuracy_score( y_test,predictions))"
   ]
  },
  {
   "cell_type": "code",
   "execution_count": 29,
   "id": "bf844589-6e32-4088-a7bc-6737f784ccc5",
   "metadata": {},
   "outputs": [
    {
     "name": "stdout",
     "output_type": "stream",
     "text": [
      "Training data accuracy :  0.8549618320610687\n"
     ]
    }
   ],
   "source": [
    "train_predictions = logistic_model2.predict(X_train[[\"Gender_encoded\",\"Age_normalized\", \"EstimatedSalary_normalized\"]])\n",
    "print(\"Training data accuracy : \" ,accuracy_score(y_train, train_predictions))"
   ]
  },
  {
   "cell_type": "code",
   "execution_count": 30,
   "id": "768c3901-04cc-4056-996d-fad27814763a",
   "metadata": {},
   "outputs": [
    {
     "data": {
      "text/html": [
       "<div>\n",
       "<style scoped>\n",
       "    .dataframe tbody tr th:only-of-type {\n",
       "        vertical-align: middle;\n",
       "    }\n",
       "\n",
       "    .dataframe tbody tr th {\n",
       "        vertical-align: top;\n",
       "    }\n",
       "\n",
       "    .dataframe thead th {\n",
       "        text-align: right;\n",
       "    }\n",
       "</style>\n",
       "<table border=\"1\" class=\"dataframe\">\n",
       "  <thead>\n",
       "    <tr style=\"text-align: right;\">\n",
       "      <th></th>\n",
       "      <th>Gender_encoded</th>\n",
       "      <th>Age_normalized</th>\n",
       "      <th>EstimatedSalary_normalized</th>\n",
       "    </tr>\n",
       "  </thead>\n",
       "  <tbody>\n",
       "    <tr>\n",
       "      <th>6</th>\n",
       "      <td>0</td>\n",
       "      <td>0.214286</td>\n",
       "      <td>0.511111</td>\n",
       "    </tr>\n",
       "    <tr>\n",
       "      <th>52</th>\n",
       "      <td>0</td>\n",
       "      <td>0.261905</td>\n",
       "      <td>0.503704</td>\n",
       "    </tr>\n",
       "    <tr>\n",
       "      <th>270</th>\n",
       "      <td>0</td>\n",
       "      <td>0.595238</td>\n",
       "      <td>0.874074</td>\n",
       "    </tr>\n",
       "    <tr>\n",
       "      <th>45</th>\n",
       "      <td>1</td>\n",
       "      <td>0.119048</td>\n",
       "      <td>0.037037</td>\n",
       "    </tr>\n",
       "    <tr>\n",
       "      <th>296</th>\n",
       "      <td>1</td>\n",
       "      <td>0.571429</td>\n",
       "      <td>0.429630</td>\n",
       "    </tr>\n",
       "    <tr>\n",
       "      <th>...</th>\n",
       "      <td>...</td>\n",
       "      <td>...</td>\n",
       "      <td>...</td>\n",
       "    </tr>\n",
       "    <tr>\n",
       "      <th>22</th>\n",
       "      <td>1</td>\n",
       "      <td>0.714286</td>\n",
       "      <td>0.192593</td>\n",
       "    </tr>\n",
       "    <tr>\n",
       "      <th>261</th>\n",
       "      <td>1</td>\n",
       "      <td>0.428571</td>\n",
       "      <td>0.955556</td>\n",
       "    </tr>\n",
       "    <tr>\n",
       "      <th>238</th>\n",
       "      <td>0</td>\n",
       "      <td>0.666667</td>\n",
       "      <td>0.496296</td>\n",
       "    </tr>\n",
       "    <tr>\n",
       "      <th>140</th>\n",
       "      <td>1</td>\n",
       "      <td>0.023810</td>\n",
       "      <td>0.518519</td>\n",
       "    </tr>\n",
       "    <tr>\n",
       "      <th>226</th>\n",
       "      <td>0</td>\n",
       "      <td>0.428571</td>\n",
       "      <td>0.822222</td>\n",
       "    </tr>\n",
       "  </tbody>\n",
       "</table>\n",
       "<p>88 rows × 3 columns</p>\n",
       "</div>"
      ],
      "text/plain": [
       "     Gender_encoded  Age_normalized  EstimatedSalary_normalized\n",
       "6                 0        0.214286                    0.511111\n",
       "52                0        0.261905                    0.503704\n",
       "270               0        0.595238                    0.874074\n",
       "45                1        0.119048                    0.037037\n",
       "296               1        0.571429                    0.429630\n",
       "..              ...             ...                         ...\n",
       "22                1        0.714286                    0.192593\n",
       "261               1        0.428571                    0.955556\n",
       "238               0        0.666667                    0.496296\n",
       "140               1        0.023810                    0.518519\n",
       "226               0        0.428571                    0.822222\n",
       "\n",
       "[88 rows x 3 columns]"
      ]
     },
     "execution_count": 30,
     "metadata": {},
     "output_type": "execute_result"
    }
   ],
   "source": [
    "X_test[[\"Gender_encoded\",\"Age_normalized\", \"EstimatedSalary_normalized\"]]"
   ]
  },
  {
   "cell_type": "markdown",
   "id": "9d672a98-dc96-4cb4-a70f-33bd891b4532",
   "metadata": {},
   "source": [
    "### Getting the probabilities"
   ]
  },
  {
   "cell_type": "code",
   "execution_count": 31,
   "id": "fd916582-ee22-4520-bde1-499aeef3e744",
   "metadata": {},
   "outputs": [
    {
     "data": {
      "text/plain": [
       "array([[0.        , 0.21428571, 0.51111111]])"
      ]
     },
     "execution_count": 31,
     "metadata": {},
     "output_type": "execute_result"
    }
   ],
   "source": [
    "X_test[[\"Gender_encoded\",\"Age_normalized\", \"EstimatedSalary_normalized\"]].iloc[0, :].values.reshape(1,-1)"
   ]
  },
  {
   "cell_type": "code",
   "execution_count": 32,
   "id": "b8c345bf-9eec-4e90-b53d-517f9808d40b",
   "metadata": {},
   "outputs": [
    {
     "data": {
      "text/plain": [
       "array([[0.83872664, 0.16127336]])"
      ]
     },
     "execution_count": 32,
     "metadata": {},
     "output_type": "execute_result"
    }
   ],
   "source": [
    "logistic_model2.predict_proba(X_test[[\"Gender_encoded\",\"Age_normalized\", \"EstimatedSalary_normalized\"]].iloc[0,:].values.reshape(1,-1))"
   ]
  },
  {
   "cell_type": "code",
   "execution_count": 33,
   "id": "0736de35-8e61-4dcd-8192-789f27a1f957",
   "metadata": {},
   "outputs": [
    {
     "data": {
      "text/plain": [
       "array([[0.83872664, 0.16127336],\n",
       "       [0.81245368, 0.18754632],\n",
       "       [0.24197868, 0.75802132],\n",
       "       [0.97502973, 0.02497027],\n",
       "       [0.61581155, 0.38418845],\n",
       "       [0.94633917, 0.05366083],\n",
       "       [0.97864689, 0.02135311],\n",
       "       [0.75885279, 0.24114721],\n",
       "       [0.91261066, 0.08738934],\n",
       "       [0.7203495 , 0.2796505 ],\n",
       "       [0.20904681, 0.79095319],\n",
       "       [0.93422229, 0.06577771],\n",
       "       [0.81048239, 0.18951761],\n",
       "       [0.799286  , 0.200714  ],\n",
       "       [0.96988747, 0.03011253],\n",
       "       [0.91808548, 0.08191452],\n",
       "       [0.93338676, 0.06661324],\n",
       "       [0.80107261, 0.19892739],\n",
       "       [0.35697842, 0.64302158],\n",
       "       [0.7409322 , 0.2590678 ],\n",
       "       [0.74351836, 0.25648164],\n",
       "       [0.59819337, 0.40180663],\n",
       "       [0.90615763, 0.09384237],\n",
       "       [0.38118745, 0.61881255],\n",
       "       [0.96643616, 0.03356384],\n",
       "       [0.68987213, 0.31012787],\n",
       "       [0.83862518, 0.16137482],\n",
       "       [0.84930192, 0.15069808],\n",
       "       [0.96875132, 0.03124868],\n",
       "       [0.96663243, 0.03336757],\n",
       "       [0.16453398, 0.83546602],\n",
       "       [0.96276862, 0.03723138],\n",
       "       [0.90506631, 0.09493369],\n",
       "       [0.57655367, 0.42344633],\n",
       "       [0.9330085 , 0.0669915 ],\n",
       "       [0.8412581 , 0.1587419 ],\n",
       "       [0.33867929, 0.66132071],\n",
       "       [0.81095702, 0.18904298],\n",
       "       [0.81394122, 0.18605878],\n",
       "       [0.79437459, 0.20562541],\n",
       "       [0.14913268, 0.85086732],\n",
       "       [0.91699001, 0.08300999],\n",
       "       [0.87622144, 0.12377856],\n",
       "       [0.31233071, 0.68766929],\n",
       "       [0.50571489, 0.49428511],\n",
       "       [0.74781905, 0.25218095],\n",
       "       [0.90383338, 0.09616662],\n",
       "       [0.12549277, 0.87450723],\n",
       "       [0.90769416, 0.09230584],\n",
       "       [0.80321786, 0.19678214],\n",
       "       [0.90218377, 0.09781623],\n",
       "       [0.76199384, 0.23800616],\n",
       "       [0.76699598, 0.23300402],\n",
       "       [0.40016194, 0.59983806],\n",
       "       [0.93559509, 0.06440491],\n",
       "       [0.09043823, 0.90956177],\n",
       "       [0.8196582 , 0.1803418 ],\n",
       "       [0.14166179, 0.85833821],\n",
       "       [0.94181215, 0.05818785],\n",
       "       [0.59011029, 0.40988971],\n",
       "       [0.55267075, 0.44732925],\n",
       "       [0.31634452, 0.68365548],\n",
       "       [0.94784865, 0.05215135],\n",
       "       [0.0937124 , 0.9062876 ],\n",
       "       [0.90911115, 0.09088885],\n",
       "       [0.9475479 , 0.0524521 ],\n",
       "       [0.95781529, 0.04218471],\n",
       "       [0.71733841, 0.28266159],\n",
       "       [0.05159452, 0.94840548],\n",
       "       [0.60026411, 0.39973589],\n",
       "       [0.36757508, 0.63242492],\n",
       "       [0.08277261, 0.91722739],\n",
       "       [0.70449974, 0.29550026],\n",
       "       [0.59965093, 0.40034907],\n",
       "       [0.93477578, 0.06522422],\n",
       "       [0.78717379, 0.21282621],\n",
       "       [0.75401024, 0.24598976],\n",
       "       [0.74209521, 0.25790479],\n",
       "       [0.68099296, 0.31900704],\n",
       "       [0.57860577, 0.42139423],\n",
       "       [0.11317528, 0.88682472],\n",
       "       [0.61078895, 0.38921105],\n",
       "       [0.75607687, 0.24392313],\n",
       "       [0.64554853, 0.35445147],\n",
       "       [0.36239556, 0.63760444],\n",
       "       [0.43483018, 0.56516982],\n",
       "       [0.92836151, 0.07163849],\n",
       "       [0.43598219, 0.56401781]])"
      ]
     },
     "execution_count": 33,
     "metadata": {},
     "output_type": "execute_result"
    }
   ],
   "source": [
    "logistic_model2.predict_proba(X_test[[\"Gender_encoded\",\"Age_normalized\", \"EstimatedSalary_normalized\"]])"
   ]
  },
  {
   "cell_type": "code",
   "execution_count": 34,
   "id": "f8dd10fe-132d-4c4f-88bc-53b83fdaf312",
   "metadata": {},
   "outputs": [
    {
     "data": {
      "text/plain": [
       "array([[0.83872664, 0.16127336],\n",
       "       [0.81245368, 0.18754632],\n",
       "       [0.24197868, 0.75802132],\n",
       "       [0.97502973, 0.02497027],\n",
       "       [0.61581155, 0.38418845],\n",
       "       [0.94633917, 0.05366083],\n",
       "       [0.97864689, 0.02135311],\n",
       "       [0.75885279, 0.24114721],\n",
       "       [0.91261066, 0.08738934],\n",
       "       [0.7203495 , 0.2796505 ],\n",
       "       [0.20904681, 0.79095319],\n",
       "       [0.93422229, 0.06577771],\n",
       "       [0.81048239, 0.18951761],\n",
       "       [0.799286  , 0.200714  ],\n",
       "       [0.96988747, 0.03011253],\n",
       "       [0.91808548, 0.08191452],\n",
       "       [0.93338676, 0.06661324],\n",
       "       [0.80107261, 0.19892739],\n",
       "       [0.35697842, 0.64302158],\n",
       "       [0.7409322 , 0.2590678 ],\n",
       "       [0.74351836, 0.25648164],\n",
       "       [0.59819337, 0.40180663],\n",
       "       [0.90615763, 0.09384237],\n",
       "       [0.38118745, 0.61881255],\n",
       "       [0.96643616, 0.03356384],\n",
       "       [0.68987213, 0.31012787],\n",
       "       [0.83862518, 0.16137482],\n",
       "       [0.84930192, 0.15069808],\n",
       "       [0.96875132, 0.03124868],\n",
       "       [0.96663243, 0.03336757],\n",
       "       [0.16453398, 0.83546602],\n",
       "       [0.96276862, 0.03723138],\n",
       "       [0.90506631, 0.09493369],\n",
       "       [0.57655367, 0.42344633],\n",
       "       [0.9330085 , 0.0669915 ],\n",
       "       [0.8412581 , 0.1587419 ],\n",
       "       [0.33867929, 0.66132071],\n",
       "       [0.81095702, 0.18904298],\n",
       "       [0.81394122, 0.18605878],\n",
       "       [0.79437459, 0.20562541],\n",
       "       [0.14913268, 0.85086732],\n",
       "       [0.91699001, 0.08300999],\n",
       "       [0.87622144, 0.12377856],\n",
       "       [0.31233071, 0.68766929],\n",
       "       [0.50571489, 0.49428511],\n",
       "       [0.74781905, 0.25218095],\n",
       "       [0.90383338, 0.09616662],\n",
       "       [0.12549277, 0.87450723],\n",
       "       [0.90769416, 0.09230584],\n",
       "       [0.80321786, 0.19678214],\n",
       "       [0.90218377, 0.09781623],\n",
       "       [0.76199384, 0.23800616],\n",
       "       [0.76699598, 0.23300402],\n",
       "       [0.40016194, 0.59983806],\n",
       "       [0.93559509, 0.06440491],\n",
       "       [0.09043823, 0.90956177],\n",
       "       [0.8196582 , 0.1803418 ],\n",
       "       [0.14166179, 0.85833821],\n",
       "       [0.94181215, 0.05818785],\n",
       "       [0.59011029, 0.40988971],\n",
       "       [0.55267075, 0.44732925],\n",
       "       [0.31634452, 0.68365548],\n",
       "       [0.94784865, 0.05215135],\n",
       "       [0.0937124 , 0.9062876 ],\n",
       "       [0.90911115, 0.09088885],\n",
       "       [0.9475479 , 0.0524521 ],\n",
       "       [0.95781529, 0.04218471],\n",
       "       [0.71733841, 0.28266159],\n",
       "       [0.05159452, 0.94840548],\n",
       "       [0.60026411, 0.39973589],\n",
       "       [0.36757508, 0.63242492],\n",
       "       [0.08277261, 0.91722739],\n",
       "       [0.70449974, 0.29550026],\n",
       "       [0.59965093, 0.40034907],\n",
       "       [0.93477578, 0.06522422],\n",
       "       [0.78717379, 0.21282621],\n",
       "       [0.75401024, 0.24598976],\n",
       "       [0.74209521, 0.25790479],\n",
       "       [0.68099296, 0.31900704],\n",
       "       [0.57860577, 0.42139423],\n",
       "       [0.11317528, 0.88682472],\n",
       "       [0.61078895, 0.38921105],\n",
       "       [0.75607687, 0.24392313],\n",
       "       [0.64554853, 0.35445147],\n",
       "       [0.36239556, 0.63760444],\n",
       "       [0.43483018, 0.56516982],\n",
       "       [0.92836151, 0.07163849],\n",
       "       [0.43598219, 0.56401781]])"
      ]
     },
     "execution_count": 34,
     "metadata": {},
     "output_type": "execute_result"
    }
   ],
   "source": [
    "pred_probs = logistic_model2.predict_proba(X_test[[\"Gender_encoded\",\"Age_normalized\", \"EstimatedSalary_normalized\"]])\n",
    "pred_probs"
   ]
  },
  {
   "cell_type": "markdown",
   "id": "7e68ec27-f940-4505-8aa6-c8a58eee51fa",
   "metadata": {},
   "source": [
    "### Log Loss"
   ]
  },
  {
   "cell_type": "code",
   "execution_count": 36,
   "id": "918c1cc5-e6a5-46fa-bd21-014c08ed65b6",
   "metadata": {},
   "outputs": [],
   "source": [
    "from sklearn.metrics import log_loss"
   ]
  },
  {
   "cell_type": "code",
   "execution_count": 38,
   "id": "1a91917c-4baf-4b82-a7d1-f83f76d8f34d",
   "metadata": {},
   "outputs": [
    {
     "name": "stdout",
     "output_type": "stream",
     "text": [
      "Model log loss :  0.3601701972105401\n"
     ]
    }
   ],
   "source": [
    "print(\"Model log loss : \", log_loss(y_test, pred_probs))"
   ]
  },
  {
   "cell_type": "markdown",
   "id": "f48dbab8-facb-4982-82e6-491ea0e3e102",
   "metadata": {},
   "source": [
    "### ROC-AUC Curve"
   ]
  },
  {
   "cell_type": "code",
   "execution_count": 40,
   "id": "e42226fb-a0c9-429a-8b71-c36269593371",
   "metadata": {},
   "outputs": [],
   "source": [
    "from sklearn.metrics import roc_curve, roc_auc_score"
   ]
  },
  {
   "cell_type": "code",
   "execution_count": 41,
   "id": "f0c23dc5-b771-48bf-910a-dadefdb9bd7c",
   "metadata": {},
   "outputs": [
    {
     "data": {
      "text/plain": [
       "array([0.16127336, 0.18754632, 0.75802132, 0.02497027, 0.38418845,\n",
       "       0.05366083, 0.02135311, 0.24114721, 0.08738934, 0.2796505 ,\n",
       "       0.79095319, 0.06577771, 0.18951761, 0.200714  , 0.03011253,\n",
       "       0.08191452, 0.06661324, 0.19892739, 0.64302158, 0.2590678 ,\n",
       "       0.25648164, 0.40180663, 0.09384237, 0.61881255, 0.03356384,\n",
       "       0.31012787, 0.16137482, 0.15069808, 0.03124868, 0.03336757,\n",
       "       0.83546602, 0.03723138, 0.09493369, 0.42344633, 0.0669915 ,\n",
       "       0.1587419 , 0.66132071, 0.18904298, 0.18605878, 0.20562541,\n",
       "       0.85086732, 0.08300999, 0.12377856, 0.68766929, 0.49428511,\n",
       "       0.25218095, 0.09616662, 0.87450723, 0.09230584, 0.19678214,\n",
       "       0.09781623, 0.23800616, 0.23300402, 0.59983806, 0.06440491,\n",
       "       0.90956177, 0.1803418 , 0.85833821, 0.05818785, 0.40988971,\n",
       "       0.44732925, 0.68365548, 0.05215135, 0.9062876 , 0.09088885,\n",
       "       0.0524521 , 0.04218471, 0.28266159, 0.94840548, 0.39973589,\n",
       "       0.63242492, 0.91722739, 0.29550026, 0.40034907, 0.06522422,\n",
       "       0.21282621, 0.24598976, 0.25790479, 0.31900704, 0.42139423,\n",
       "       0.88682472, 0.38921105, 0.24392313, 0.35445147, 0.63760444,\n",
       "       0.56516982, 0.07163849, 0.56401781])"
      ]
     },
     "execution_count": 41,
     "metadata": {},
     "output_type": "execute_result"
    }
   ],
   "source": [
    "pred_probs[:, 1]"
   ]
  },
  {
   "cell_type": "code",
   "execution_count": 42,
   "id": "541888cf-d6b1-40df-8c42-6173e202ef04",
   "metadata": {},
   "outputs": [],
   "source": [
    "fpr, tpr, thresholds = roc_curve(y_test, pred_probs[:, 1])"
   ]
  },
  {
   "cell_type": "code",
   "execution_count": 43,
   "id": "11e0f41c-ba1a-41fc-9ce8-38c43235df79",
   "metadata": {},
   "outputs": [
    {
     "data": {
      "text/plain": [
       "(array([0.        , 0.        , 0.        , 0.01587302, 0.01587302,\n",
       "        0.03174603, 0.03174603, 0.06349206, 0.06349206, 0.07936508,\n",
       "        0.07936508, 0.15873016, 0.15873016, 0.17460317, 0.17460317,\n",
       "        0.23809524, 0.23809524, 0.36507937, 0.36507937, 1.        ]),\n",
       " array([0.  , 0.04, 0.32, 0.32, 0.36, 0.36, 0.44, 0.44, 0.6 , 0.6 , 0.64,\n",
       "        0.64, 0.76, 0.76, 0.92, 0.92, 0.96, 0.96, 1.  , 1.  ]),\n",
       " array([1.94840548, 0.94840548, 0.85086732, 0.83546602, 0.79095319,\n",
       "        0.75802132, 0.68365548, 0.64302158, 0.59983806, 0.56516982,\n",
       "        0.56401781, 0.40988971, 0.39973589, 0.38921105, 0.31012787,\n",
       "        0.2590678 , 0.25790479, 0.21282621, 0.20562541, 0.02135311]))"
      ]
     },
     "execution_count": 43,
     "metadata": {},
     "output_type": "execute_result"
    }
   ],
   "source": [
    "fpr , tpr, thresholds"
   ]
  },
  {
   "cell_type": "code",
   "execution_count": 44,
   "id": "70dc874d-9232-49ce-83f2-9cde9aae509e",
   "metadata": {},
   "outputs": [
    {
     "name": "stdout",
     "output_type": "stream",
     "text": [
      "Model AUC :  0.9123809523809523\n"
     ]
    }
   ],
   "source": [
    "print(\"Model AUC : \", roc_auc_score(y_test, pred_probs[:, 1]))"
   ]
  },
  {
   "cell_type": "code",
   "execution_count": null,
   "id": "5df09e5d-60f6-4985-9f59-0aaa8e774b9a",
   "metadata": {},
   "outputs": [],
   "source": []
  },
  {
   "cell_type": "markdown",
   "id": "f6be533d-41e1-4eb6-b63b-bba77a65a8b1",
   "metadata": {},
   "source": [
    "### Plotting ROC"
   ]
  },
  {
   "cell_type": "code",
   "execution_count": 52,
   "id": "ff004140-5f90-48d7-82a9-b2b35a7772fc",
   "metadata": {},
   "outputs": [
    {
     "data": {
      "image/png": "[encoded data removed]",
      "text/plain": [
       "<Figure size 640x480 with 1 Axes>"
      ]
     },
     "metadata": {},
     "output_type": "display_data"
    }
   ],
   "source": [
    "fpr, tpr, _ = roc_curve(y_test, pred_probs[:, 1])\n",
    "auc = roc_auc_score(y_test, pred_probs[:, 1])\n",
    "plt.plot(fpr,tpr,label=\"data 1, auc=\"+str(auc))\n",
    "plt.legend(loc=4)\n",
    "plt.show()"
   ]
  },
  {
   "cell_type": "code",
   "execution_count": 53,
   "id": "fb64e0b4-6a8e-4e6f-9fae-bd6020c6daa4",
   "metadata": {},
   "outputs": [
    {
     "name": "stdout",
     "output_type": "stream",
     "text": [
      "Model AUC :  0.08761904761904762\n"
     ]
    }
   ],
   "source": [
    "fpr, tpr, thresholds = roc_curve(y_test, pred_probs[:, 0])\n",
    "fpr , tpr, thresholds\n",
    "print(\"Model AUC : \", roc_auc_score(y_test, pred_probs[:, 0]))"
   ]
  },
  {
   "cell_type": "code",
   "execution_count": 57,
   "id": "dbd188d0-3cc4-4072-bc08-0d7002165cdd",
   "metadata": {},
   "outputs": [
    {
     "data": {
      "image/png": "[encoded data removed]",
      "text/plain": [
       "<Figure size 640x480 with 1 Axes>"
      ]
     },
     "metadata": {},
     "output_type": "display_data"
    }
   ],
   "source": [
    "fpr, tpr, _ = roc_curve(y_test, pred_probs[:, 0])\n",
    "auc = roc_auc_score(y_test, pred_probs[:, 0])\n",
    "plt.plot(fpr,tpr,label=\"data 1, auc=\"+str(auc))\n",
    "plt.legend(loc=2)\n",
    "plt.show()"
   ]
  },
  {
   "cell_type": "code",
   "execution_count": null,
   "id": "7db61f69-d8a4-4c7c-ad01-6a48d55b2332",
   "metadata": {},
   "outputs": [],
   "source": []
  }
 ],
 "metadata": {
  "kernelspec": {
   "display_name": "Python 3 (ipykernel)",
   "language": "python",
   "name": "python3"
  },
  "language_info": {
   "codemirror_mode": {
    "name": "ipython",
    "version": 3
   },
   "file_extension": ".py",
   "mimetype": "text/x-python",
   "name": "python",
   "nbconvert_exporter": "python",
   "pygments_lexer": "ipython3",
   "version": "3.11.7"
  }
 },
 "nbformat": 4,
 "nbformat_minor": 5
}
